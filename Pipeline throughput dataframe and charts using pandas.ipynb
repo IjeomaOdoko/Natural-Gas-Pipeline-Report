{
 "cells": [
  {
   "cell_type": "markdown",
   "metadata": {},
   "source": [
    "# Pipeline Throughput and Capacity"
   ]
  },
  {
   "cell_type": "markdown",
   "metadata": {},
   "source": [
    "## 1. Objective: \n",
    "\n",
    "#### To explore Pipeline Throughput and Capacity data for pipelines licensed by National Energy Board. Data for natural gas is captured daily while data for oil is captured monthly.\n",
    "\n",
    "### 1.1 Data Source:\n",
    "\n",
    "#### https://open.canada.ca/data/en/dataset/dc343c43-a592-4a27-8ee7-c77df56afb34#wb-auto-6\n",
    "\n",
    "#### Data is obtained under the open government licence canada.\n",
    "#### https://open.canada.ca/en/open-government-licence-canada"
   ]
  },
  {
   "cell_type": "markdown",
   "metadata": {},
   "source": [
    "## 2. ETL Process"
   ]
  },
  {
   "cell_type": "markdown",
   "metadata": {},
   "source": [
    "### Combining several csv files with the same format and columns from one folder using a single python statement.\n",
    "\n",
    "### Load Pipeline txt files from Pipeline folder - Group A\n",
    "\n",
    "\n"
   ]
  },
  {
   "cell_type": "code",
   "execution_count": 1,
   "metadata": {},
   "outputs": [],
   "source": [
    "import glob\n",
    "\n",
    "%matplotlib inline\n",
    "\n",
    "import os\n",
    "import numpy as np\n",
    "import pandas as pd\n",
    "import seaborn as sns\n",
    "import matplotlib.pyplot as plt\n",
    "\n",
    "##### reference for Code below (https://medium.com/@kadek/elegantly-reading-multiple-csvs-into-pandas-e1a76843b688)\n",
    "# glob.glob('data*.csv') - returns List[str]\n",
    "# pd.read_csv(f) - returns pd.DataFrame()\n",
    "# for f in glob.glob() - returns a List[DataFrames]\n",
    "# pd.concat() - returns one pd.DataFrame()\n",
    "df_GroupA = pd.concat([pd.read_csv(f, sep = \",\", encoding=\"latin-1\") for f in glob.glob(r\"C:\\Users\\ijeke\\Documents\\Datasets\\Pipeline throughput\\Pipeline textfiles\\Group A\\*.txt\")], ignore_index = True)"
   ]
  },
  {
   "cell_type": "code",
   "execution_count": 2,
   "metadata": {},
   "outputs": [
    {
     "name": "stdout",
     "output_type": "stream",
     "text": [
      "        Date  Month  Year                       Corporate Entity  \\\n",
      "0          1      1  2006  Alliance Pipeline Limited Partnership   \n",
      "1          2      1  2006  Alliance Pipeline Limited Partnership   \n",
      "2          3      1  2006  Alliance Pipeline Limited Partnership   \n",
      "3          4      1  2006  Alliance Pipeline Limited Partnership   \n",
      "4          5      1  2006  Alliance Pipeline Limited Partnership   \n",
      "...      ...    ...   ...                                    ...   \n",
      "162835    26      9  2019                  Westcoast Energy Inc.   \n",
      "162836    27      9  2019                  Westcoast Energy Inc.   \n",
      "162837    28      9  2019                  Westcoast Energy Inc.   \n",
      "162838    29      9  2019                  Westcoast Energy Inc.   \n",
      "162839    30      9  2019                  Westcoast Energy Inc.   \n",
      "\n",
      "            Pipeline Name     Key Point  Latitude  Longitude  \\\n",
      "0       Alliance Pipeline        Border   49.0000   -101.588   \n",
      "1       Alliance Pipeline        Border   49.0000   -101.588   \n",
      "2       Alliance Pipeline        Border   49.0000   -101.588   \n",
      "3       Alliance Pipeline        Border   49.0000   -101.588   \n",
      "4       Alliance Pipeline        Border   49.0000   -101.588   \n",
      "...                   ...           ...       ...        ...   \n",
      "162835        BC Pipeline  Sunset Creek   55.8136   -120.867   \n",
      "162836        BC Pipeline  Sunset Creek   55.8136   -120.867   \n",
      "162837        BC Pipeline  Sunset Creek   55.8136   -120.867   \n",
      "162838        BC Pipeline  Sunset Creek   55.8136   -120.867   \n",
      "162839        BC Pipeline  Sunset Creek   55.8136   -120.867   \n",
      "\n",
      "       Direction of Flow   Trade Type  Capacity (1000 m3/d)  \\\n",
      "0              southeast       export          51717.212324   \n",
      "1              southeast       export          51733.310913   \n",
      "2              southeast       export          51748.750890   \n",
      "3              southeast       export          51763.527545   \n",
      "4              southeast       export          51777.636370   \n",
      "...                  ...          ...                   ...   \n",
      "162835              east  intracanada          20570.000000   \n",
      "162836              east  intracanada          20570.000000   \n",
      "162837              east  intracanada          20570.000000   \n",
      "162838              east  intracanada          20570.000000   \n",
      "162839              east  intracanada          20570.000000   \n",
      "\n",
      "        Throughput (1000 m3/d)  Throughput (GJ/d)  \n",
      "0                 48884.199219       1.973514e+06  \n",
      "1                 48708.101562       1.968322e+06  \n",
      "2                 48355.300781       1.964453e+06  \n",
      "3                 49248.500000       1.999268e+06  \n",
      "4                 49377.800781       2.000305e+06  \n",
      "...                        ...                ...  \n",
      "162835            17106.200000       6.970500e+05  \n",
      "162836            17026.800000       6.985680e+05  \n",
      "162837            15908.500000       6.517620e+05  \n",
      "162838            16942.400000       6.918400e+05  \n",
      "162839            10769.000000       4.392370e+05  \n",
      "\n",
      "[162840 rows x 13 columns]\n"
     ]
    }
   ],
   "source": [
    "print(df_GroupA)"
   ]
  },
  {
   "cell_type": "code",
   "execution_count": 3,
   "metadata": {},
   "outputs": [
    {
     "name": "stdout",
     "output_type": "stream",
     "text": [
      "<class 'pandas.core.frame.DataFrame'>\n",
      "Int64Index: 162840 entries, 0 to 162839\n",
      "Data columns (total 13 columns):\n",
      "Date                      162840 non-null int64\n",
      "Month                     162840 non-null int64\n",
      "Year                      162840 non-null int64\n",
      "Corporate Entity          162840 non-null object\n",
      "Pipeline Name             162840 non-null object\n",
      "Key Point                 162840 non-null object\n",
      "Latitude                  162840 non-null float64\n",
      "Longitude                 162840 non-null float64\n",
      "Direction of Flow         162840 non-null object\n",
      "Trade Type                162840 non-null object\n",
      "Capacity (1000 m3/d)      162764 non-null float64\n",
      "Throughput (1000 m3/d)    162636 non-null float64\n",
      "Throughput (GJ/d)         162656 non-null float64\n",
      "dtypes: float64(5), int64(3), object(5)\n",
      "memory usage: 17.4+ MB\n"
     ]
    }
   ],
   "source": [
    "## drop duplicate values\n",
    "\n",
    "df_GroupA.drop_duplicates(inplace=True)\n",
    "df_GroupA.info()"
   ]
  },
  {
   "cell_type": "markdown",
   "metadata": {},
   "source": [
    "## Load Pipeline txt files from Pipeline folder - Group B"
   ]
  },
  {
   "cell_type": "code",
   "execution_count": 4,
   "metadata": {},
   "outputs": [],
   "source": [
    "df_GroupB = pd.concat([pd.read_csv(f, sep = \",\", encoding=\"latin-1\") for f in glob.glob(r\"C:\\Users\\ijeke\\Documents\\Datasets\\Pipeline throughput\\Pipeline textfiles\\Group B\\*.txt\")], ignore_index = True)"
   ]
  },
  {
   "cell_type": "code",
   "execution_count": 5,
   "metadata": {},
   "outputs": [
    {
     "name": "stdout",
     "output_type": "stream",
     "text": [
      "      Month  Year                       Corporate Entity     Pipeline Name  \\\n",
      "0         7  2014                          Kinder Morgan            Cochin   \n",
      "1         7  2014                          Kinder Morgan            Cochin   \n",
      "2         7  2014                          Kinder Morgan            Cochin   \n",
      "3         8  2014                          Kinder Morgan            Cochin   \n",
      "4         8  2014                          Kinder Morgan            Cochin   \n",
      "...     ...   ...                                    ...               ...   \n",
      "2944      1  2019  TEML Westpur Pipelines Limited (TEML)  Westpur Pipeline   \n",
      "2945      1  2019  TEML Westpur Pipelines Limited (TEML)  Westpur Pipeline   \n",
      "2946      2  2019  TEML Westpur Pipelines Limited (TEML)  Westpur Pipeline   \n",
      "2947      2  2019  TEML Westpur Pipelines Limited (TEML)  Westpur Pipeline   \n",
      "2948      2  2019  TEML Westpur Pipelines Limited (TEML)  Westpur Pipeline   \n",
      "\n",
      "             Key Point  Latitude  Longitude Direction of Flow   Trade Type  \\\n",
      "0     Ft. Saskatchewan    53.750   -113.170              west       import   \n",
      "1               Regina    50.466   -104.718              east       import   \n",
      "2              Windsor    42.280    -83.077              east       import   \n",
      "3     Ft. Saskatchewan    53.750   -113.170              west       import   \n",
      "4              Windsor    42.280    -83.077              east       import   \n",
      "...                ...       ...        ...               ...          ...   \n",
      "2944            system       NaN        NaN     not available  intracanada   \n",
      "2945            system       NaN        NaN     not available  intracanada   \n",
      "2946            system       NaN        NaN     not available  intracanada   \n",
      "2947            system       NaN        NaN     not available  intracanada   \n",
      "2948            system       NaN        NaN     not available  intracanada   \n",
      "\n",
      "                          Product  Throughput (1000 m3/d)  \\\n",
      "0                      condensate                0.532833   \n",
      "1      refined petroleum products                0.014601   \n",
      "2      refined petroleum products                0.001369   \n",
      "3                      condensate                0.577185   \n",
      "4      refined petroleum products                0.000000   \n",
      "...                           ...                     ...   \n",
      "2944  south east sask (ses) crude               21.002432   \n",
      "2945  westspur midale (msm) crude                7.069567   \n",
      "2946    natural gas liquids (ngl)                0.330246   \n",
      "2947  south east sask (ses) crude               20.323080   \n",
      "2948  westspur midale (msm) crude                6.724584   \n",
      "\n",
      "      Nameplate Capacity (1000 m3/d)  Available Capacity (1000 m3/d)  \\\n",
      "0                                NaN                       15.103792   \n",
      "1                                NaN                             NaN   \n",
      "2                                NaN                       12.083034   \n",
      "3                                NaN                       15.103792   \n",
      "4                                NaN                       12.083034   \n",
      "...                              ...                             ...   \n",
      "2944                             NaN                       39.333524   \n",
      "2945                             NaN                       39.333524   \n",
      "2946                             NaN                       39.333524   \n",
      "2947                             NaN                       39.333524   \n",
      "2948                             NaN                       39.333524   \n",
      "\n",
      "                                    Reason For Variance  \n",
      "0     The Canadian portion of the Cochin pipeline ha...  \n",
      "1                                                   NaN  \n",
      "2                                                   NaN  \n",
      "3     The Canadian portion of the Cochin pipeline ha...  \n",
      "4                                                   NaN  \n",
      "...                                                 ...  \n",
      "2944                                                NaN  \n",
      "2945                                                NaN  \n",
      "2946                                                NaN  \n",
      "2947                                                NaN  \n",
      "2948                                                NaN  \n",
      "\n",
      "[2949 rows x 14 columns]\n"
     ]
    }
   ],
   "source": [
    "print(df_GroupB)"
   ]
  },
  {
   "cell_type": "code",
   "execution_count": 6,
   "metadata": {},
   "outputs": [
    {
     "name": "stdout",
     "output_type": "stream",
     "text": [
      "<class 'pandas.core.frame.DataFrame'>\n",
      "Int64Index: 2949 entries, 0 to 2948\n",
      "Data columns (total 14 columns):\n",
      "Month                             2949 non-null int64\n",
      "Year                              2949 non-null int64\n",
      "Corporate Entity                  2949 non-null object\n",
      "Pipeline Name                     2949 non-null object\n",
      "Key Point                         2949 non-null object\n",
      "Latitude                          2674 non-null float64\n",
      "Longitude                         2674 non-null float64\n",
      "Direction of Flow                 2949 non-null object\n",
      "Trade Type                        2949 non-null object\n",
      "Product                           2949 non-null object\n",
      "Throughput (1000 m3/d)            2949 non-null float64\n",
      "Nameplate Capacity (1000 m3/d)    990 non-null float64\n",
      "Available Capacity (1000 m3/d)    2582 non-null float64\n",
      "Reason For Variance               2115 non-null object\n",
      "dtypes: float64(5), int64(2), object(7)\n",
      "memory usage: 345.6+ KB\n"
     ]
    }
   ],
   "source": [
    "## drop duplicate values\n",
    "df_GroupB.drop_duplicates(inplace=True)\n",
    "\n",
    "df_GroupB.info()"
   ]
  },
  {
   "cell_type": "code",
   "execution_count": 7,
   "metadata": {},
   "outputs": [
    {
     "data": {
      "text/html": [
       "<div>\n",
       "<style scoped>\n",
       "    .dataframe tbody tr th:only-of-type {\n",
       "        vertical-align: middle;\n",
       "    }\n",
       "\n",
       "    .dataframe tbody tr th {\n",
       "        vertical-align: top;\n",
       "    }\n",
       "\n",
       "    .dataframe thead th {\n",
       "        text-align: right;\n",
       "    }\n",
       "</style>\n",
       "<table border=\"1\" class=\"dataframe\">\n",
       "  <thead>\n",
       "    <tr style=\"text-align: right;\">\n",
       "      <th></th>\n",
       "      <th>Month</th>\n",
       "      <th>Year</th>\n",
       "      <th>Corporate Entity</th>\n",
       "      <th>Pipeline Name</th>\n",
       "      <th>Key Point</th>\n",
       "      <th>Latitude</th>\n",
       "      <th>Longitude</th>\n",
       "      <th>Direction of Flow</th>\n",
       "      <th>Trade Type</th>\n",
       "      <th>Product</th>\n",
       "      <th>Throughput (1000 m3/d)</th>\n",
       "      <th>Nameplate Capacity (1000 m3/d)</th>\n",
       "      <th>Available Capacity (1000 m3/d)</th>\n",
       "      <th>Reason For Variance</th>\n",
       "    </tr>\n",
       "  </thead>\n",
       "  <tbody>\n",
       "    <tr>\n",
       "      <td>0</td>\n",
       "      <td>7</td>\n",
       "      <td>2014</td>\n",
       "      <td>Kinder Morgan</td>\n",
       "      <td>Cochin</td>\n",
       "      <td>Ft. Saskatchewan</td>\n",
       "      <td>53.750</td>\n",
       "      <td>-113.170</td>\n",
       "      <td>west</td>\n",
       "      <td>import</td>\n",
       "      <td>condensate</td>\n",
       "      <td>0.532833</td>\n",
       "      <td>NaN</td>\n",
       "      <td>15.103792</td>\n",
       "      <td>The Canadian portion of the Cochin pipeline ha...</td>\n",
       "    </tr>\n",
       "    <tr>\n",
       "      <td>1</td>\n",
       "      <td>7</td>\n",
       "      <td>2014</td>\n",
       "      <td>Kinder Morgan</td>\n",
       "      <td>Cochin</td>\n",
       "      <td>Regina</td>\n",
       "      <td>50.466</td>\n",
       "      <td>-104.718</td>\n",
       "      <td>east</td>\n",
       "      <td>import</td>\n",
       "      <td>refined petroleum products</td>\n",
       "      <td>0.014601</td>\n",
       "      <td>NaN</td>\n",
       "      <td>NaN</td>\n",
       "      <td>NaN</td>\n",
       "    </tr>\n",
       "    <tr>\n",
       "      <td>2</td>\n",
       "      <td>7</td>\n",
       "      <td>2014</td>\n",
       "      <td>Kinder Morgan</td>\n",
       "      <td>Cochin</td>\n",
       "      <td>Windsor</td>\n",
       "      <td>42.280</td>\n",
       "      <td>-83.077</td>\n",
       "      <td>east</td>\n",
       "      <td>import</td>\n",
       "      <td>refined petroleum products</td>\n",
       "      <td>0.001369</td>\n",
       "      <td>NaN</td>\n",
       "      <td>12.083034</td>\n",
       "      <td>NaN</td>\n",
       "    </tr>\n",
       "    <tr>\n",
       "      <td>3</td>\n",
       "      <td>8</td>\n",
       "      <td>2014</td>\n",
       "      <td>Kinder Morgan</td>\n",
       "      <td>Cochin</td>\n",
       "      <td>Ft. Saskatchewan</td>\n",
       "      <td>53.750</td>\n",
       "      <td>-113.170</td>\n",
       "      <td>west</td>\n",
       "      <td>import</td>\n",
       "      <td>condensate</td>\n",
       "      <td>0.577185</td>\n",
       "      <td>NaN</td>\n",
       "      <td>15.103792</td>\n",
       "      <td>The Canadian portion of the Cochin pipeline ha...</td>\n",
       "    </tr>\n",
       "    <tr>\n",
       "      <td>4</td>\n",
       "      <td>8</td>\n",
       "      <td>2014</td>\n",
       "      <td>Kinder Morgan</td>\n",
       "      <td>Cochin</td>\n",
       "      <td>Windsor</td>\n",
       "      <td>42.280</td>\n",
       "      <td>-83.077</td>\n",
       "      <td>east</td>\n",
       "      <td>import</td>\n",
       "      <td>refined petroleum products</td>\n",
       "      <td>0.000000</td>\n",
       "      <td>NaN</td>\n",
       "      <td>12.083034</td>\n",
       "      <td>NaN</td>\n",
       "    </tr>\n",
       "    <tr>\n",
       "      <td>...</td>\n",
       "      <td>...</td>\n",
       "      <td>...</td>\n",
       "      <td>...</td>\n",
       "      <td>...</td>\n",
       "      <td>...</td>\n",
       "      <td>...</td>\n",
       "      <td>...</td>\n",
       "      <td>...</td>\n",
       "      <td>...</td>\n",
       "      <td>...</td>\n",
       "      <td>...</td>\n",
       "      <td>...</td>\n",
       "      <td>...</td>\n",
       "      <td>...</td>\n",
       "    </tr>\n",
       "    <tr>\n",
       "      <td>101</td>\n",
       "      <td>5</td>\n",
       "      <td>2019</td>\n",
       "      <td>Kinder Morgan</td>\n",
       "      <td>Cochin</td>\n",
       "      <td>Ft. Saskatchewan</td>\n",
       "      <td>53.750</td>\n",
       "      <td>-113.170</td>\n",
       "      <td>west</td>\n",
       "      <td>import</td>\n",
       "      <td>condensate</td>\n",
       "      <td>16.233936</td>\n",
       "      <td>NaN</td>\n",
       "      <td>15.103792</td>\n",
       "      <td>As previously indicated, the Canadian portion ...</td>\n",
       "    </tr>\n",
       "    <tr>\n",
       "      <td>102</td>\n",
       "      <td>6</td>\n",
       "      <td>2019</td>\n",
       "      <td>Kinder Morgan</td>\n",
       "      <td>Cochin</td>\n",
       "      <td>Ft. Saskatchewan</td>\n",
       "      <td>53.750</td>\n",
       "      <td>-113.170</td>\n",
       "      <td>west</td>\n",
       "      <td>import</td>\n",
       "      <td>condensate</td>\n",
       "      <td>13.510962</td>\n",
       "      <td>NaN</td>\n",
       "      <td>15.103792</td>\n",
       "      <td>As previously indicated, the Canadian portion ...</td>\n",
       "    </tr>\n",
       "    <tr>\n",
       "      <td>103</td>\n",
       "      <td>7</td>\n",
       "      <td>2019</td>\n",
       "      <td>Kinder Morgan</td>\n",
       "      <td>Cochin</td>\n",
       "      <td>Ft. Saskatchewan</td>\n",
       "      <td>53.750</td>\n",
       "      <td>-113.170</td>\n",
       "      <td>west</td>\n",
       "      <td>import</td>\n",
       "      <td>condensate</td>\n",
       "      <td>14.030644</td>\n",
       "      <td>NaN</td>\n",
       "      <td>15.103792</td>\n",
       "      <td>As previously indicated, the Canadian portion ...</td>\n",
       "    </tr>\n",
       "    <tr>\n",
       "      <td>104</td>\n",
       "      <td>8</td>\n",
       "      <td>2019</td>\n",
       "      <td>Kinder Morgan</td>\n",
       "      <td>Cochin</td>\n",
       "      <td>Ft. Saskatchewan</td>\n",
       "      <td>53.750</td>\n",
       "      <td>-113.170</td>\n",
       "      <td>west</td>\n",
       "      <td>import</td>\n",
       "      <td>condensate</td>\n",
       "      <td>15.997404</td>\n",
       "      <td>NaN</td>\n",
       "      <td>15.103792</td>\n",
       "      <td>As previously indicated, the Canadian portion ...</td>\n",
       "    </tr>\n",
       "    <tr>\n",
       "      <td>105</td>\n",
       "      <td>9</td>\n",
       "      <td>2019</td>\n",
       "      <td>Kinder Morgan</td>\n",
       "      <td>Cochin</td>\n",
       "      <td>Ft. Saskatchewan</td>\n",
       "      <td>53.750</td>\n",
       "      <td>-113.170</td>\n",
       "      <td>west</td>\n",
       "      <td>import</td>\n",
       "      <td>condensate</td>\n",
       "      <td>15.623850</td>\n",
       "      <td>NaN</td>\n",
       "      <td>15.103792</td>\n",
       "      <td>As previously indicated, the Canadian portion ...</td>\n",
       "    </tr>\n",
       "  </tbody>\n",
       "</table>\n",
       "<p>106 rows × 14 columns</p>\n",
       "</div>"
      ],
      "text/plain": [
       "     Month  Year Corporate Entity Pipeline Name         Key Point  Latitude  \\\n",
       "0        7  2014    Kinder Morgan        Cochin  Ft. Saskatchewan    53.750   \n",
       "1        7  2014    Kinder Morgan        Cochin            Regina    50.466   \n",
       "2        7  2014    Kinder Morgan        Cochin           Windsor    42.280   \n",
       "3        8  2014    Kinder Morgan        Cochin  Ft. Saskatchewan    53.750   \n",
       "4        8  2014    Kinder Morgan        Cochin           Windsor    42.280   \n",
       "..     ...   ...              ...           ...               ...       ...   \n",
       "101      5  2019    Kinder Morgan        Cochin  Ft. Saskatchewan    53.750   \n",
       "102      6  2019    Kinder Morgan        Cochin  Ft. Saskatchewan    53.750   \n",
       "103      7  2019    Kinder Morgan        Cochin  Ft. Saskatchewan    53.750   \n",
       "104      8  2019    Kinder Morgan        Cochin  Ft. Saskatchewan    53.750   \n",
       "105      9  2019    Kinder Morgan        Cochin  Ft. Saskatchewan    53.750   \n",
       "\n",
       "     Longitude Direction of Flow Trade Type                     Product  \\\n",
       "0     -113.170              west     import                  condensate   \n",
       "1     -104.718              east     import  refined petroleum products   \n",
       "2      -83.077              east     import  refined petroleum products   \n",
       "3     -113.170              west     import                  condensate   \n",
       "4      -83.077              east     import  refined petroleum products   \n",
       "..         ...               ...        ...                         ...   \n",
       "101   -113.170              west     import                  condensate   \n",
       "102   -113.170              west     import                  condensate   \n",
       "103   -113.170              west     import                  condensate   \n",
       "104   -113.170              west     import                  condensate   \n",
       "105   -113.170              west     import                  condensate   \n",
       "\n",
       "     Throughput (1000 m3/d)  Nameplate Capacity (1000 m3/d)  \\\n",
       "0                  0.532833                             NaN   \n",
       "1                  0.014601                             NaN   \n",
       "2                  0.001369                             NaN   \n",
       "3                  0.577185                             NaN   \n",
       "4                  0.000000                             NaN   \n",
       "..                      ...                             ...   \n",
       "101               16.233936                             NaN   \n",
       "102               13.510962                             NaN   \n",
       "103               14.030644                             NaN   \n",
       "104               15.997404                             NaN   \n",
       "105               15.623850                             NaN   \n",
       "\n",
       "     Available Capacity (1000 m3/d)  \\\n",
       "0                         15.103792   \n",
       "1                               NaN   \n",
       "2                         12.083034   \n",
       "3                         15.103792   \n",
       "4                         12.083034   \n",
       "..                              ...   \n",
       "101                       15.103792   \n",
       "102                       15.103792   \n",
       "103                       15.103792   \n",
       "104                       15.103792   \n",
       "105                       15.103792   \n",
       "\n",
       "                                   Reason For Variance  \n",
       "0    The Canadian portion of the Cochin pipeline ha...  \n",
       "1                                                  NaN  \n",
       "2                                                  NaN  \n",
       "3    The Canadian portion of the Cochin pipeline ha...  \n",
       "4                                                  NaN  \n",
       "..                                                 ...  \n",
       "101  As previously indicated, the Canadian portion ...  \n",
       "102  As previously indicated, the Canadian portion ...  \n",
       "103  As previously indicated, the Canadian portion ...  \n",
       "104  As previously indicated, the Canadian portion ...  \n",
       "105  As previously indicated, the Canadian portion ...  \n",
       "\n",
       "[106 rows x 14 columns]"
      ]
     },
     "execution_count": 7,
     "metadata": {},
     "output_type": "execute_result"
    }
   ],
   "source": [
    "df_GroupB.loc[(df_GroupB['Pipeline Name'] == 'Cochin')]"
   ]
  },
  {
   "cell_type": "code",
   "execution_count": 8,
   "metadata": {},
   "outputs": [],
   "source": [
    "df_GroupA.rename(columns={'Capacity (1000 m3/d)': 'Available Capacity (1000 m3/d)'}, inplace = True)\n",
    "\n"
   ]
  },
  {
   "cell_type": "markdown",
   "metadata": {},
   "source": [
    "## Rename and drop columns as required"
   ]
  },
  {
   "cell_type": "code",
   "execution_count": 9,
   "metadata": {},
   "outputs": [],
   "source": [
    "df_GroupA.drop(columns={'Date', 'Throughput (GJ/d)'},inplace=True)\n",
    "\n",
    "df_GroupB.drop(columns={'Reason For Variance', 'Nameplate Capacity (1000 m3/d)'},inplace=True)\n",
    "\n"
   ]
  },
  {
   "cell_type": "code",
   "execution_count": 10,
   "metadata": {},
   "outputs": [
    {
     "name": "stdout",
     "output_type": "stream",
     "text": [
      "<class 'pandas.core.frame.DataFrame'>\n",
      "Int64Index: 162840 entries, 0 to 162839\n",
      "Data columns (total 11 columns):\n",
      "Month                             162840 non-null int64\n",
      "Year                              162840 non-null int64\n",
      "Corporate Entity                  162840 non-null object\n",
      "Pipeline Name                     162840 non-null object\n",
      "Key Point                         162840 non-null object\n",
      "Latitude                          162840 non-null float64\n",
      "Longitude                         162840 non-null float64\n",
      "Direction of Flow                 162840 non-null object\n",
      "Trade Type                        162840 non-null object\n",
      "Available Capacity (1000 m3/d)    162764 non-null float64\n",
      "Throughput (1000 m3/d)            162636 non-null float64\n",
      "dtypes: float64(4), int64(2), object(5)\n",
      "memory usage: 14.9+ MB\n",
      "<class 'pandas.core.frame.DataFrame'>\n",
      "Int64Index: 2949 entries, 0 to 2948\n",
      "Data columns (total 12 columns):\n",
      "Month                             2949 non-null int64\n",
      "Year                              2949 non-null int64\n",
      "Corporate Entity                  2949 non-null object\n",
      "Pipeline Name                     2949 non-null object\n",
      "Key Point                         2949 non-null object\n",
      "Latitude                          2674 non-null float64\n",
      "Longitude                         2674 non-null float64\n",
      "Direction of Flow                 2949 non-null object\n",
      "Trade Type                        2949 non-null object\n",
      "Product                           2949 non-null object\n",
      "Throughput (1000 m3/d)            2949 non-null float64\n",
      "Available Capacity (1000 m3/d)    2582 non-null float64\n",
      "dtypes: float64(4), int64(2), object(6)\n",
      "memory usage: 299.5+ KB\n"
     ]
    }
   ],
   "source": [
    "df_GroupA.info()\n",
    "df_GroupB.info()"
   ]
  },
  {
   "cell_type": "markdown",
   "metadata": {},
   "source": [
    "## Lookup missing info Product for Group A pipelines and add to the dataframe"
   ]
  },
  {
   "cell_type": "code",
   "execution_count": 11,
   "metadata": {},
   "outputs": [],
   "source": [
    "### Based on data here - Group A pipelines are all natural gas (https://www.cer-rec.gc.ca/nrg/ntgrtd/pplnprtl/pplnprfls/index-eng.html)\n",
    "\n",
    "### NGTL System pipeline \n",
    "### Canadian Mainline \n",
    "### Foothills system\n",
    "### Alliance Pipeline\n",
    "### BC Pipeline also known as Westcoast Transmission system\n",
    "### Trans Quebec & Maritimes Pipeline"
   ]
  },
  {
   "cell_type": "code",
   "execution_count": 12,
   "metadata": {},
   "outputs": [
    {
     "name": "stdout",
     "output_type": "stream",
     "text": [
      "<class 'pandas.core.frame.DataFrame'>\n",
      "Int64Index: 162840 entries, 0 to 162839\n",
      "Data columns (total 12 columns):\n",
      "Month                             162840 non-null int64\n",
      "Year                              162840 non-null int64\n",
      "Corporate Entity                  162840 non-null object\n",
      "Pipeline Name                     162840 non-null object\n",
      "Key Point                         162840 non-null object\n",
      "Latitude                          162840 non-null float64\n",
      "Longitude                         162840 non-null float64\n",
      "Direction of Flow                 162840 non-null object\n",
      "Trade Type                        162840 non-null object\n",
      "Available Capacity (1000 m3/d)    162764 non-null float64\n",
      "Throughput (1000 m3/d)            162636 non-null float64\n",
      "Product                           162840 non-null object\n",
      "dtypes: float64(4), int64(2), object(6)\n",
      "memory usage: 16.2+ MB\n"
     ]
    }
   ],
   "source": [
    "## add new column Product to GroupA dataframe with default Natural Gas\n",
    "\n",
    "df_GroupA['Product']= 'natural gas'\n",
    "df_GroupA.info()"
   ]
  },
  {
   "cell_type": "markdown",
   "metadata": {},
   "source": [
    "## Combine Group A and Group B dataframes"
   ]
  },
  {
   "cell_type": "code",
   "execution_count": 13,
   "metadata": {},
   "outputs": [],
   "source": [
    "## dont resort values, dont keep original index\n",
    "frames = [df_GroupA, df_GroupB]\n",
    "\n",
    "df_Pipelines=pd.concat(frames, sort=False, ignore_index=True)"
   ]
  },
  {
   "cell_type": "code",
   "execution_count": 14,
   "metadata": {},
   "outputs": [
    {
     "name": "stdout",
     "output_type": "stream",
     "text": [
      "<class 'pandas.core.frame.DataFrame'>\n",
      "RangeIndex: 165789 entries, 0 to 165788\n",
      "Data columns (total 12 columns):\n",
      "Month                             165789 non-null int64\n",
      "Year                              165789 non-null int64\n",
      "Corporate Entity                  165789 non-null object\n",
      "Pipeline Name                     165789 non-null object\n",
      "Key Point                         165789 non-null object\n",
      "Latitude                          165514 non-null float64\n",
      "Longitude                         165514 non-null float64\n",
      "Direction of Flow                 165789 non-null object\n",
      "Trade Type                        165789 non-null object\n",
      "Available Capacity (1000 m3/d)    165346 non-null float64\n",
      "Throughput (1000 m3/d)            165585 non-null float64\n",
      "Product                           165789 non-null object\n",
      "dtypes: float64(4), int64(2), object(6)\n",
      "memory usage: 15.2+ MB\n"
     ]
    }
   ],
   "source": [
    "df_Pipelines.info()"
   ]
  },
  {
   "cell_type": "markdown",
   "metadata": {},
   "source": [
    "## Create dataframes for dimension tables"
   ]
  },
  {
   "cell_type": "code",
   "execution_count": 15,
   "metadata": {},
   "outputs": [
    {
     "name": "stdout",
     "output_type": "stream",
     "text": [
      "                        Pipeline Name                       Corporate Entity\n",
      "1                   Alliance Pipeline  Alliance Pipeline Limited Partnership\n",
      "2                    Foothills System  Foothills Pipe Lines Ltd. (Foothills)\n",
      "3                   Canadian Mainline         Maritimes & Northeast Pipeline\n",
      "4                         NGTL System      NOVA Gas Transmission Ltd. (NGTL)\n",
      "5                   Canadian Mainline          TransCanada PipeLines Limited\n",
      "6   Trans Québec & Maritimes Pipeline  Trans Québec & Maritimes Pipeline Inc\n",
      "7                         BC Pipeline                  Westcoast Energy Inc.\n",
      "8                              Cochin                          Kinder Morgan\n",
      "9                   Canadian Mainline                Enbridge Pipelines Inc.\n",
      "10           Keystone Pipeline System  TransCanada Keystone Pipeline GP Ltd.\n",
      "11              Norman Wells Pipeline           Enbridge Pipelines (NW) Inc.\n",
      "12           Southern Lights Pipeline       Enbridge Southern Lights GP Inc.\n",
      "13            Trans Mountain Pipeline            Trans Mountain Pipeline ULC\n",
      "14                     Trans-Northern          Trans-Northern Pipelines Inc.\n",
      "15                   Westpur Pipeline  TEML Westpur Pipelines Limited (TEML)\n"
     ]
    }
   ],
   "source": [
    "df_PipelineCoInfo = df_Pipelines[['Pipeline Name', 'Corporate Entity']].drop_duplicates(inplace=False)\n",
    "\n",
    " ## set index from 1 to 16\n",
    "    \n",
    "y = pd.Series(range(1,16))\n",
    "df_PipelineCoInfo.set_index([y],inplace=True)\n",
    "\n",
    "print(df_PipelineCoInfo)"
   ]
  },
  {
   "cell_type": "code",
   "execution_count": 16,
   "metadata": {},
   "outputs": [
    {
     "name": "stdout",
     "output_type": "stream",
     "text": [
      "                        Pipeline Name\n",
      "0                   Alliance Pipeline\n",
      "1                    Foothills System\n",
      "2                   Canadian Mainline\n",
      "3                         NGTL System\n",
      "4   Trans Québec & Maritimes Pipeline\n",
      "5                         BC Pipeline\n",
      "6                              Cochin\n",
      "7            Keystone Pipeline System\n",
      "8               Norman Wells Pipeline\n",
      "9            Southern Lights Pipeline\n",
      "10            Trans Mountain Pipeline\n",
      "11                     Trans-Northern\n",
      "12                   Westpur Pipeline\n"
     ]
    }
   ],
   "source": [
    "df_PipelineName = df_Pipelines[['Pipeline Name']].drop_duplicates(inplace=False)\n",
    "df_CorporateEntity = df_Pipelines[['Corporate Entity']].drop_duplicates(inplace=False)\n",
    "\n",
    "df_CorporateEntity.reset_index(drop=True,inplace=True)\n",
    "df_PipelineName.reset_index(drop=True,inplace=True)\n",
    "\n",
    "print(df_PipelineName)\n"
   ]
  },
  {
   "cell_type": "code",
   "execution_count": 17,
   "metadata": {},
   "outputs": [
    {
     "name": "stdout",
     "output_type": "stream",
     "text": [
      "                         Corporate Entity\n",
      "0   Alliance Pipeline Limited Partnership\n",
      "1   Foothills Pipe Lines Ltd. (Foothills)\n",
      "2          Maritimes & Northeast Pipeline\n",
      "3       NOVA Gas Transmission Ltd. (NGTL)\n",
      "4           TransCanada PipeLines Limited\n",
      "5   Trans Québec & Maritimes Pipeline Inc\n",
      "6                   Westcoast Energy Inc.\n",
      "7                           Kinder Morgan\n",
      "8                 Enbridge Pipelines Inc.\n",
      "9   TransCanada Keystone Pipeline GP Ltd.\n",
      "10           Enbridge Pipelines (NW) Inc.\n",
      "11       Enbridge Southern Lights GP Inc.\n",
      "12            Trans Mountain Pipeline ULC\n",
      "13          Trans-Northern Pipelines Inc.\n",
      "14  TEML Westpur Pipelines Limited (TEML)\n"
     ]
    }
   ],
   "source": [
    "print(df_CorporateEntity)\n"
   ]
  },
  {
   "cell_type": "code",
   "execution_count": 18,
   "metadata": {},
   "outputs": [
    {
     "name": "stdout",
     "output_type": "stream",
     "text": [
      "                        Product\n",
      "1                   natural gas\n",
      "2                    condensate\n",
      "3    refined petroleum products\n",
      "4                 foreign light\n",
      "5                domestic heavy\n",
      "6          domestic light / ngl\n",
      "7                domestic light\n",
      "8                       diluent\n",
      "9     natural gas liquids (ngl)\n",
      "10  south east sask (ses) crude\n",
      "11  westspur midale (msm) crude\n",
      "<class 'pandas.core.frame.DataFrame'>\n",
      "RangeIndex: 165789 entries, 0 to 165788\n",
      "Data columns (total 12 columns):\n",
      "Month                             165789 non-null int64\n",
      "Year                              165789 non-null int64\n",
      "Corporate Entity                  165789 non-null object\n",
      "Pipeline Name                     165789 non-null object\n",
      "Key Point                         165789 non-null object\n",
      "Latitude                          165514 non-null float64\n",
      "Longitude                         165514 non-null float64\n",
      "Direction of Flow                 165789 non-null object\n",
      "Trade Type                        165789 non-null object\n",
      "Available Capacity (1000 m3/d)    165346 non-null float64\n",
      "Throughput (1000 m3/d)            165585 non-null float64\n",
      "Product                           165789 non-null object\n",
      "dtypes: float64(4), int64(2), object(6)\n",
      "memory usage: 15.2+ MB\n"
     ]
    }
   ],
   "source": [
    "## df_TradeType.drop_duplicates\n",
    "\n",
    "df_Product = df_Pipelines[['Product']].drop_duplicates(inplace=False)\n",
    "\n",
    "df_Product.index = np.arange(1,len(df_Product)+1)\n",
    "\n",
    "print(df_Product)\n",
    "df_Pipelines.info()"
   ]
  },
  {
   "cell_type": "code",
   "execution_count": 19,
   "metadata": {},
   "outputs": [
    {
     "name": "stdout",
     "output_type": "stream",
     "text": [
      "             Trade Type\n",
      "1                export\n",
      "2           intracanada\n",
      "3                import\n",
      "4                     `\n",
      "5  intracanada / export\n"
     ]
    }
   ],
   "source": [
    "df_TradeType = df_Pipelines[['Trade Type']].drop_duplicates(inplace=False)\n",
    " \n",
    "    ## set index as number of rows starting from 1\n",
    "df_TradeType.index = np.arange(1,len(df_TradeType)+1)\n",
    "\n",
    "print(df_TradeType)"
   ]
  },
  {
   "cell_type": "markdown",
   "metadata": {},
   "source": [
    "## Clean data where required"
   ]
  },
  {
   "cell_type": "code",
   "execution_count": 20,
   "metadata": {},
   "outputs": [
    {
     "data": {
      "text/html": [
       "<div>\n",
       "<style scoped>\n",
       "    .dataframe tbody tr th:only-of-type {\n",
       "        vertical-align: middle;\n",
       "    }\n",
       "\n",
       "    .dataframe tbody tr th {\n",
       "        vertical-align: top;\n",
       "    }\n",
       "\n",
       "    .dataframe thead th {\n",
       "        text-align: right;\n",
       "    }\n",
       "</style>\n",
       "<table border=\"1\" class=\"dataframe\">\n",
       "  <thead>\n",
       "    <tr style=\"text-align: right;\">\n",
       "      <th></th>\n",
       "      <th>Month</th>\n",
       "      <th>Year</th>\n",
       "      <th>Corporate Entity</th>\n",
       "      <th>Pipeline Name</th>\n",
       "      <th>Key Point</th>\n",
       "      <th>Latitude</th>\n",
       "      <th>Longitude</th>\n",
       "      <th>Direction of Flow</th>\n",
       "      <th>Trade Type</th>\n",
       "      <th>Available Capacity (1000 m3/d)</th>\n",
       "      <th>Throughput (1000 m3/d)</th>\n",
       "      <th>Product</th>\n",
       "    </tr>\n",
       "  </thead>\n",
       "  <tbody>\n",
       "    <tr>\n",
       "      <td>158097</td>\n",
       "      <td>11</td>\n",
       "      <td>2017</td>\n",
       "      <td>Westcoast Energy Inc.</td>\n",
       "      <td>BC Pipeline</td>\n",
       "      <td>NOVA/Gordondale</td>\n",
       "      <td>55.8643</td>\n",
       "      <td>-119.568</td>\n",
       "      <td>west</td>\n",
       "      <td>`</td>\n",
       "      <td>7854.0</td>\n",
       "      <td>0.0</td>\n",
       "      <td>natural gas</td>\n",
       "    </tr>\n",
       "  </tbody>\n",
       "</table>\n",
       "</div>"
      ],
      "text/plain": [
       "        Month  Year       Corporate Entity Pipeline Name        Key Point  \\\n",
       "158097     11  2017  Westcoast Energy Inc.   BC Pipeline  NOVA/Gordondale   \n",
       "\n",
       "        Latitude  Longitude Direction of Flow Trade Type  \\\n",
       "158097   55.8643   -119.568              west          `   \n",
       "\n",
       "        Available Capacity (1000 m3/d)  Throughput (1000 m3/d)      Product  \n",
       "158097                          7854.0                     0.0  natural gas  "
      ]
     },
     "execution_count": 20,
     "metadata": {},
     "output_type": "execute_result"
    }
   ],
   "source": [
    "## look up data that has error identified\n",
    "df_Pipelines.loc[(df_Pipelines['Trade Type'] == '`')]\n"
   ]
  },
  {
   "cell_type": "code",
   "execution_count": 21,
   "metadata": {},
   "outputs": [
    {
     "data": {
      "text/html": [
       "<div>\n",
       "<style scoped>\n",
       "    .dataframe tbody tr th:only-of-type {\n",
       "        vertical-align: middle;\n",
       "    }\n",
       "\n",
       "    .dataframe tbody tr th {\n",
       "        vertical-align: top;\n",
       "    }\n",
       "\n",
       "    .dataframe thead th {\n",
       "        text-align: right;\n",
       "    }\n",
       "</style>\n",
       "<table border=\"1\" class=\"dataframe\">\n",
       "  <thead>\n",
       "    <tr style=\"text-align: right;\">\n",
       "      <th></th>\n",
       "      <th>Month</th>\n",
       "      <th>Year</th>\n",
       "      <th>Corporate Entity</th>\n",
       "      <th>Pipeline Name</th>\n",
       "      <th>Key Point</th>\n",
       "      <th>Latitude</th>\n",
       "      <th>Longitude</th>\n",
       "      <th>Direction of Flow</th>\n",
       "      <th>Trade Type</th>\n",
       "      <th>Available Capacity (1000 m3/d)</th>\n",
       "      <th>Throughput (1000 m3/d)</th>\n",
       "      <th>Product</th>\n",
       "    </tr>\n",
       "  </thead>\n",
       "  <tbody>\n",
       "    <tr>\n",
       "      <td>158095</td>\n",
       "      <td>11</td>\n",
       "      <td>2017</td>\n",
       "      <td>Westcoast Energy Inc.</td>\n",
       "      <td>BC Pipeline</td>\n",
       "      <td>NOVA/Gordondale</td>\n",
       "      <td>55.8643</td>\n",
       "      <td>-119.568</td>\n",
       "      <td>east</td>\n",
       "      <td>intracanada</td>\n",
       "      <td>10901.0</td>\n",
       "      <td>5416.8</td>\n",
       "      <td>natural gas</td>\n",
       "    </tr>\n",
       "    <tr>\n",
       "      <td>158096</td>\n",
       "      <td>11</td>\n",
       "      <td>2017</td>\n",
       "      <td>Westcoast Energy Inc.</td>\n",
       "      <td>BC Pipeline</td>\n",
       "      <td>NOVA/Gordondale</td>\n",
       "      <td>55.8643</td>\n",
       "      <td>-119.568</td>\n",
       "      <td>east</td>\n",
       "      <td>intracanada</td>\n",
       "      <td>10901.0</td>\n",
       "      <td>4205.1</td>\n",
       "      <td>natural gas</td>\n",
       "    </tr>\n",
       "    <tr>\n",
       "      <td>158097</td>\n",
       "      <td>11</td>\n",
       "      <td>2017</td>\n",
       "      <td>Westcoast Energy Inc.</td>\n",
       "      <td>BC Pipeline</td>\n",
       "      <td>NOVA/Gordondale</td>\n",
       "      <td>55.8643</td>\n",
       "      <td>-119.568</td>\n",
       "      <td>west</td>\n",
       "      <td>`</td>\n",
       "      <td>7854.0</td>\n",
       "      <td>0.0</td>\n",
       "      <td>natural gas</td>\n",
       "    </tr>\n",
       "    <tr>\n",
       "      <td>158098</td>\n",
       "      <td>11</td>\n",
       "      <td>2017</td>\n",
       "      <td>Westcoast Energy Inc.</td>\n",
       "      <td>BC Pipeline</td>\n",
       "      <td>NOVA/Gordondale</td>\n",
       "      <td>55.8643</td>\n",
       "      <td>-119.568</td>\n",
       "      <td>west</td>\n",
       "      <td>intracanada</td>\n",
       "      <td>7854.0</td>\n",
       "      <td>0.0</td>\n",
       "      <td>natural gas</td>\n",
       "    </tr>\n",
       "  </tbody>\n",
       "</table>\n",
       "</div>"
      ],
      "text/plain": [
       "        Month  Year       Corporate Entity Pipeline Name        Key Point  \\\n",
       "158095     11  2017  Westcoast Energy Inc.   BC Pipeline  NOVA/Gordondale   \n",
       "158096     11  2017  Westcoast Energy Inc.   BC Pipeline  NOVA/Gordondale   \n",
       "158097     11  2017  Westcoast Energy Inc.   BC Pipeline  NOVA/Gordondale   \n",
       "158098     11  2017  Westcoast Energy Inc.   BC Pipeline  NOVA/Gordondale   \n",
       "\n",
       "        Latitude  Longitude Direction of Flow   Trade Type  \\\n",
       "158095   55.8643   -119.568              east  intracanada   \n",
       "158096   55.8643   -119.568              east  intracanada   \n",
       "158097   55.8643   -119.568              west            `   \n",
       "158098   55.8643   -119.568              west  intracanada   \n",
       "\n",
       "        Available Capacity (1000 m3/d)  Throughput (1000 m3/d)      Product  \n",
       "158095                         10901.0                  5416.8  natural gas  \n",
       "158096                         10901.0                  4205.1  natural gas  \n",
       "158097                          7854.0                     0.0  natural gas  \n",
       "158098                          7854.0                     0.0  natural gas  "
      ]
     },
     "execution_count": 21,
     "metadata": {},
     "output_type": "execute_result"
    }
   ],
   "source": [
    "## look up values closest to it\n",
    "df_Pipelines.iloc[158095:158099]"
   ]
  },
  {
   "cell_type": "code",
   "execution_count": 22,
   "metadata": {},
   "outputs": [
    {
     "data": {
      "text/html": [
       "<div>\n",
       "<style scoped>\n",
       "    .dataframe tbody tr th:only-of-type {\n",
       "        vertical-align: middle;\n",
       "    }\n",
       "\n",
       "    .dataframe tbody tr th {\n",
       "        vertical-align: top;\n",
       "    }\n",
       "\n",
       "    .dataframe thead th {\n",
       "        text-align: right;\n",
       "    }\n",
       "</style>\n",
       "<table border=\"1\" class=\"dataframe\">\n",
       "  <thead>\n",
       "    <tr style=\"text-align: right;\">\n",
       "      <th></th>\n",
       "      <th>Month</th>\n",
       "      <th>Year</th>\n",
       "      <th>Corporate Entity</th>\n",
       "      <th>Pipeline Name</th>\n",
       "      <th>Key Point</th>\n",
       "      <th>Latitude</th>\n",
       "      <th>Longitude</th>\n",
       "      <th>Direction of Flow</th>\n",
       "      <th>Trade Type</th>\n",
       "      <th>Available Capacity (1000 m3/d)</th>\n",
       "      <th>Throughput (1000 m3/d)</th>\n",
       "      <th>Product</th>\n",
       "    </tr>\n",
       "  </thead>\n",
       "  <tbody>\n",
       "    <tr>\n",
       "      <td>158095</td>\n",
       "      <td>11</td>\n",
       "      <td>2017</td>\n",
       "      <td>Westcoast Energy Inc.</td>\n",
       "      <td>BC Pipeline</td>\n",
       "      <td>NOVA/Gordondale</td>\n",
       "      <td>55.8643</td>\n",
       "      <td>-119.568</td>\n",
       "      <td>east</td>\n",
       "      <td>intracanada</td>\n",
       "      <td>10901.0</td>\n",
       "      <td>5416.8</td>\n",
       "      <td>natural gas</td>\n",
       "    </tr>\n",
       "    <tr>\n",
       "      <td>158096</td>\n",
       "      <td>11</td>\n",
       "      <td>2017</td>\n",
       "      <td>Westcoast Energy Inc.</td>\n",
       "      <td>BC Pipeline</td>\n",
       "      <td>NOVA/Gordondale</td>\n",
       "      <td>55.8643</td>\n",
       "      <td>-119.568</td>\n",
       "      <td>east</td>\n",
       "      <td>intracanada</td>\n",
       "      <td>10901.0</td>\n",
       "      <td>4205.1</td>\n",
       "      <td>natural gas</td>\n",
       "    </tr>\n",
       "    <tr>\n",
       "      <td>158097</td>\n",
       "      <td>11</td>\n",
       "      <td>2017</td>\n",
       "      <td>Westcoast Energy Inc.</td>\n",
       "      <td>BC Pipeline</td>\n",
       "      <td>NOVA/Gordondale</td>\n",
       "      <td>55.8643</td>\n",
       "      <td>-119.568</td>\n",
       "      <td>west</td>\n",
       "      <td>intracanada</td>\n",
       "      <td>7854.0</td>\n",
       "      <td>0.0</td>\n",
       "      <td>natural gas</td>\n",
       "    </tr>\n",
       "    <tr>\n",
       "      <td>158098</td>\n",
       "      <td>11</td>\n",
       "      <td>2017</td>\n",
       "      <td>Westcoast Energy Inc.</td>\n",
       "      <td>BC Pipeline</td>\n",
       "      <td>NOVA/Gordondale</td>\n",
       "      <td>55.8643</td>\n",
       "      <td>-119.568</td>\n",
       "      <td>west</td>\n",
       "      <td>intracanada</td>\n",
       "      <td>7854.0</td>\n",
       "      <td>0.0</td>\n",
       "      <td>natural gas</td>\n",
       "    </tr>\n",
       "  </tbody>\n",
       "</table>\n",
       "</div>"
      ],
      "text/plain": [
       "        Month  Year       Corporate Entity Pipeline Name        Key Point  \\\n",
       "158095     11  2017  Westcoast Energy Inc.   BC Pipeline  NOVA/Gordondale   \n",
       "158096     11  2017  Westcoast Energy Inc.   BC Pipeline  NOVA/Gordondale   \n",
       "158097     11  2017  Westcoast Energy Inc.   BC Pipeline  NOVA/Gordondale   \n",
       "158098     11  2017  Westcoast Energy Inc.   BC Pipeline  NOVA/Gordondale   \n",
       "\n",
       "        Latitude  Longitude Direction of Flow   Trade Type  \\\n",
       "158095   55.8643   -119.568              east  intracanada   \n",
       "158096   55.8643   -119.568              east  intracanada   \n",
       "158097   55.8643   -119.568              west  intracanada   \n",
       "158098   55.8643   -119.568              west  intracanada   \n",
       "\n",
       "        Available Capacity (1000 m3/d)  Throughput (1000 m3/d)      Product  \n",
       "158095                         10901.0                  5416.8  natural gas  \n",
       "158096                         10901.0                  4205.1  natural gas  \n",
       "158097                          7854.0                     0.0  natural gas  \n",
       "158098                          7854.0                     0.0  natural gas  "
      ]
     },
     "execution_count": 22,
     "metadata": {},
     "output_type": "execute_result"
    }
   ],
   "source": [
    "## based on data above, replace Error value with intracanada\n",
    "\n",
    "df_Pipelines.replace(to_replace = \"`\" , value=\"intracanada\", inplace=True)\n",
    "\n",
    "## check dataframe again\n",
    "\n",
    "df_Pipelines.iloc[158095:158099]\n"
   ]
  },
  {
   "cell_type": "code",
   "execution_count": 23,
   "metadata": {},
   "outputs": [
    {
     "name": "stdout",
     "output_type": "stream",
     "text": [
      "             Trade Type\n",
      "1                export\n",
      "2           intracanada\n",
      "3                import\n",
      "4  intracanada / export\n"
     ]
    }
   ],
   "source": [
    "## rerun this dataframe to get rid of the error `\n",
    "df_TradeType = df_Pipelines[['Trade Type']].drop_duplicates(inplace=False)\n",
    " \n",
    "    ## set index as number of rows starting from 1\n",
    "df_TradeType.index = np.arange(1,len(df_TradeType)+1)\n",
    "\n",
    "print(df_TradeType)"
   ]
  },
  {
   "cell_type": "code",
   "execution_count": 24,
   "metadata": {},
   "outputs": [],
   "source": [
    "## rename Month column as MonthSort\n",
    "df_Pipelines.rename(columns={'Month':'MonthSort'}, inplace=True)"
   ]
  },
  {
   "cell_type": "code",
   "execution_count": 25,
   "metadata": {},
   "outputs": [
    {
     "name": "stdout",
     "output_type": "stream",
     "text": [
      "    MonthSort      Month\n",
      "0           1    January\n",
      "1           2   February\n",
      "2           3      March\n",
      "3           4      April\n",
      "4           5        May\n",
      "5           6       June\n",
      "6           7       July\n",
      "7           8     August\n",
      "8           9  September\n",
      "9          10    October\n",
      "10         11   November\n",
      "11         12   December\n",
      "<class 'pandas.core.frame.DataFrame'>\n",
      "RangeIndex: 12 entries, 0 to 11\n",
      "Data columns (total 2 columns):\n",
      "MonthSort    12 non-null int64\n",
      "Month        12 non-null object\n",
      "dtypes: int64(1), object(1)\n",
      "memory usage: 320.0+ bytes\n"
     ]
    }
   ],
   "source": [
    "## Create a new month dataframe table\n",
    "\n",
    "st = pd.Series(range(1,13)) ## month numbers\n",
    "\n",
    "data = {'MonthSort': st, 'Month':['January', 'February', 'March', 'April', 'May', 'June', 'July', 'August', 'September', 'October', 'November', 'December']}\n",
    "Month_df = pd.DataFrame(data)\n",
    "\n",
    "print(Month_df)\n",
    "Month_df.info()\n"
   ]
  },
  {
   "cell_type": "code",
   "execution_count": 26,
   "metadata": {},
   "outputs": [
    {
     "name": "stdout",
     "output_type": "stream",
     "text": [
      "<class 'pandas.core.frame.DataFrame'>\n",
      "RangeIndex: 165789 entries, 0 to 165788\n",
      "Data columns (total 12 columns):\n",
      "MonthSort                         165789 non-null int64\n",
      "Year                              165789 non-null int64\n",
      "Corporate Entity                  165789 non-null object\n",
      "Pipeline Name                     165789 non-null object\n",
      "Key Point                         165789 non-null object\n",
      "Latitude                          165514 non-null float64\n",
      "Longitude                         165514 non-null float64\n",
      "Direction of Flow                 165789 non-null object\n",
      "Trade Type                        165789 non-null object\n",
      "Available Capacity (1000 m3/d)    165346 non-null float64\n",
      "Throughput (1000 m3/d)            165585 non-null float64\n",
      "Product                           165789 non-null object\n",
      "dtypes: float64(4), int64(2), object(6)\n",
      "memory usage: 15.2+ MB\n"
     ]
    }
   ],
   "source": [
    "df_Pipelines.info()"
   ]
  },
  {
   "cell_type": "code",
   "execution_count": 27,
   "metadata": {},
   "outputs": [
    {
     "name": "stdout",
     "output_type": "stream",
     "text": [
      "    MonthSort     Month  Year                       Corporate Entity  \\\n",
      "0           1   January  2006  Alliance Pipeline Limited Partnership   \n",
      "0           1   January  2006  Alliance Pipeline Limited Partnership   \n",
      "0           1   January  2006  Alliance Pipeline Limited Partnership   \n",
      "0           1   January  2006  Alliance Pipeline Limited Partnership   \n",
      "0           1   January  2006  Alliance Pipeline Limited Partnership   \n",
      "..        ...       ...   ...                                    ...   \n",
      "11         12  December  2017  TEML Westpur Pipelines Limited (TEML)   \n",
      "11         12  December  2017  TEML Westpur Pipelines Limited (TEML)   \n",
      "11         12  December  2018  TEML Westpur Pipelines Limited (TEML)   \n",
      "11         12  December  2018  TEML Westpur Pipelines Limited (TEML)   \n",
      "11         12  December  2018  TEML Westpur Pipelines Limited (TEML)   \n",
      "\n",
      "        Pipeline Name Key Point  Latitude  Longitude Direction of Flow  \\\n",
      "0   Alliance Pipeline    Border      49.0   -101.588         southeast   \n",
      "0   Alliance Pipeline    Border      49.0   -101.588         southeast   \n",
      "0   Alliance Pipeline    Border      49.0   -101.588         southeast   \n",
      "0   Alliance Pipeline    Border      49.0   -101.588         southeast   \n",
      "0   Alliance Pipeline    Border      49.0   -101.588         southeast   \n",
      "..                ...       ...       ...        ...               ...   \n",
      "11   Westpur Pipeline    system       NaN        NaN     not available   \n",
      "11   Westpur Pipeline    system       NaN        NaN     not available   \n",
      "11   Westpur Pipeline    system       NaN        NaN     not available   \n",
      "11   Westpur Pipeline    system       NaN        NaN     not available   \n",
      "11   Westpur Pipeline    system       NaN        NaN     not available   \n",
      "\n",
      "     Trade Type  Available Capacity (1000 m3/d)  Throughput (1000 m3/d)  \\\n",
      "0        export                    51717.212324            48884.199219   \n",
      "0        export                    51733.310913            48708.101562   \n",
      "0        export                    51748.750890            48355.300781   \n",
      "0        export                    51763.527545            49248.500000   \n",
      "0        export                    51777.636370            49377.800781   \n",
      "..          ...                             ...                     ...   \n",
      "11  intracanada                       39.333524               20.951653   \n",
      "11  intracanada                       39.333524                6.871120   \n",
      "11  intracanada                       39.333524                0.282326   \n",
      "11  intracanada                       39.333524               23.183305   \n",
      "11  intracanada                       39.333524                7.661816   \n",
      "\n",
      "                        Product  \n",
      "0                   natural gas  \n",
      "0                   natural gas  \n",
      "0                   natural gas  \n",
      "0                   natural gas  \n",
      "0                   natural gas  \n",
      "..                          ...  \n",
      "11  south east sask (ses) crude  \n",
      "11  westspur midale (msm) crude  \n",
      "11    natural gas liquids (ngl)  \n",
      "11  south east sask (ses) crude  \n",
      "11  westspur midale (msm) crude  \n",
      "\n",
      "[165789 rows x 13 columns]\n"
     ]
    }
   ],
   "source": [
    "## combine month info to pipeline info\n",
    "left = Month_df\n",
    "right = df_Pipelines\n",
    "\n",
    "PipelinesThroughputCapacity_df = pd.merge(left,right, how='right', on= 'MonthSort', sort=False, left_index = False, right_index=True, validate= \"1:m\")\n",
    "\n",
    "print(PipelinesThroughputCapacity_df)"
   ]
  },
  {
   "cell_type": "code",
   "execution_count": 28,
   "metadata": {},
   "outputs": [
    {
     "data": {
      "text/html": [
       "<div>\n",
       "<style scoped>\n",
       "    .dataframe tbody tr th:only-of-type {\n",
       "        vertical-align: middle;\n",
       "    }\n",
       "\n",
       "    .dataframe tbody tr th {\n",
       "        vertical-align: top;\n",
       "    }\n",
       "\n",
       "    .dataframe thead th {\n",
       "        text-align: right;\n",
       "    }\n",
       "</style>\n",
       "<table border=\"1\" class=\"dataframe\">\n",
       "  <thead>\n",
       "    <tr style=\"text-align: right;\">\n",
       "      <th></th>\n",
       "      <th>index</th>\n",
       "      <th>MonthSort</th>\n",
       "      <th>Month</th>\n",
       "      <th>Year</th>\n",
       "      <th>Corporate Entity</th>\n",
       "      <th>Pipeline Name</th>\n",
       "      <th>Key Point</th>\n",
       "      <th>Latitude</th>\n",
       "      <th>Longitude</th>\n",
       "      <th>Direction of Flow</th>\n",
       "      <th>Trade Type</th>\n",
       "      <th>Available Capacity (1000 m3/d)</th>\n",
       "      <th>Throughput (1000 m3/d)</th>\n",
       "      <th>Product</th>\n",
       "      <th>MonthYear</th>\n",
       "      <th>MonthYearSort</th>\n",
       "    </tr>\n",
       "  </thead>\n",
       "  <tbody>\n",
       "    <tr>\n",
       "      <td>0</td>\n",
       "      <td>0</td>\n",
       "      <td>1</td>\n",
       "      <td>January</td>\n",
       "      <td>2006</td>\n",
       "      <td>Alliance Pipeline Limited Partnership</td>\n",
       "      <td>Alliance Pipeline</td>\n",
       "      <td>Border</td>\n",
       "      <td>49.0</td>\n",
       "      <td>-101.588</td>\n",
       "      <td>southeast</td>\n",
       "      <td>export</td>\n",
       "      <td>51717.212324</td>\n",
       "      <td>48884.199219</td>\n",
       "      <td>natural gas</td>\n",
       "      <td>January 2006</td>\n",
       "      <td>200601</td>\n",
       "    </tr>\n",
       "    <tr>\n",
       "      <td>1</td>\n",
       "      <td>0</td>\n",
       "      <td>1</td>\n",
       "      <td>January</td>\n",
       "      <td>2006</td>\n",
       "      <td>Alliance Pipeline Limited Partnership</td>\n",
       "      <td>Alliance Pipeline</td>\n",
       "      <td>Border</td>\n",
       "      <td>49.0</td>\n",
       "      <td>-101.588</td>\n",
       "      <td>southeast</td>\n",
       "      <td>export</td>\n",
       "      <td>51733.310913</td>\n",
       "      <td>48708.101562</td>\n",
       "      <td>natural gas</td>\n",
       "      <td>January 2006</td>\n",
       "      <td>200601</td>\n",
       "    </tr>\n",
       "    <tr>\n",
       "      <td>2</td>\n",
       "      <td>0</td>\n",
       "      <td>1</td>\n",
       "      <td>January</td>\n",
       "      <td>2006</td>\n",
       "      <td>Alliance Pipeline Limited Partnership</td>\n",
       "      <td>Alliance Pipeline</td>\n",
       "      <td>Border</td>\n",
       "      <td>49.0</td>\n",
       "      <td>-101.588</td>\n",
       "      <td>southeast</td>\n",
       "      <td>export</td>\n",
       "      <td>51748.750890</td>\n",
       "      <td>48355.300781</td>\n",
       "      <td>natural gas</td>\n",
       "      <td>January 2006</td>\n",
       "      <td>200601</td>\n",
       "    </tr>\n",
       "    <tr>\n",
       "      <td>3</td>\n",
       "      <td>0</td>\n",
       "      <td>1</td>\n",
       "      <td>January</td>\n",
       "      <td>2006</td>\n",
       "      <td>Alliance Pipeline Limited Partnership</td>\n",
       "      <td>Alliance Pipeline</td>\n",
       "      <td>Border</td>\n",
       "      <td>49.0</td>\n",
       "      <td>-101.588</td>\n",
       "      <td>southeast</td>\n",
       "      <td>export</td>\n",
       "      <td>51763.527545</td>\n",
       "      <td>49248.500000</td>\n",
       "      <td>natural gas</td>\n",
       "      <td>January 2006</td>\n",
       "      <td>200601</td>\n",
       "    </tr>\n",
       "    <tr>\n",
       "      <td>4</td>\n",
       "      <td>0</td>\n",
       "      <td>1</td>\n",
       "      <td>January</td>\n",
       "      <td>2006</td>\n",
       "      <td>Alliance Pipeline Limited Partnership</td>\n",
       "      <td>Alliance Pipeline</td>\n",
       "      <td>Border</td>\n",
       "      <td>49.0</td>\n",
       "      <td>-101.588</td>\n",
       "      <td>southeast</td>\n",
       "      <td>export</td>\n",
       "      <td>51777.636370</td>\n",
       "      <td>49377.800781</td>\n",
       "      <td>natural gas</td>\n",
       "      <td>January 2006</td>\n",
       "      <td>200601</td>\n",
       "    </tr>\n",
       "  </tbody>\n",
       "</table>\n",
       "</div>"
      ],
      "text/plain": [
       "   index  MonthSort    Month  Year                       Corporate Entity  \\\n",
       "0      0          1  January  2006  Alliance Pipeline Limited Partnership   \n",
       "1      0          1  January  2006  Alliance Pipeline Limited Partnership   \n",
       "2      0          1  January  2006  Alliance Pipeline Limited Partnership   \n",
       "3      0          1  January  2006  Alliance Pipeline Limited Partnership   \n",
       "4      0          1  January  2006  Alliance Pipeline Limited Partnership   \n",
       "\n",
       "       Pipeline Name Key Point  Latitude  Longitude Direction of Flow  \\\n",
       "0  Alliance Pipeline    Border      49.0   -101.588         southeast   \n",
       "1  Alliance Pipeline    Border      49.0   -101.588         southeast   \n",
       "2  Alliance Pipeline    Border      49.0   -101.588         southeast   \n",
       "3  Alliance Pipeline    Border      49.0   -101.588         southeast   \n",
       "4  Alliance Pipeline    Border      49.0   -101.588         southeast   \n",
       "\n",
       "  Trade Type  Available Capacity (1000 m3/d)  Throughput (1000 m3/d)  \\\n",
       "0     export                    51717.212324            48884.199219   \n",
       "1     export                    51733.310913            48708.101562   \n",
       "2     export                    51748.750890            48355.300781   \n",
       "3     export                    51763.527545            49248.500000   \n",
       "4     export                    51777.636370            49377.800781   \n",
       "\n",
       "       Product     MonthYear MonthYearSort  \n",
       "0  natural gas  January 2006        200601  \n",
       "1  natural gas  January 2006        200601  \n",
       "2  natural gas  January 2006        200601  \n",
       "3  natural gas  January 2006        200601  \n",
       "4  natural gas  January 2006        200601  "
      ]
     },
     "execution_count": 28,
     "metadata": {},
     "output_type": "execute_result"
    }
   ],
   "source": [
    "## add month year, monthyearsort columns and reset index\n",
    "\n",
    "PipelinesThroughputCapacity_df['MonthYear'] = PipelinesThroughputCapacity_df['Month'].map(str) + \" \" + PipelinesThroughputCapacity_df['Year'].map(str)\n",
    "\n",
    "## change format of monthsort to two digits\n",
    "PipelinesThroughputCapacity_df['MonthYearSort'] = PipelinesThroughputCapacity_df['Year'].map(str) + PipelinesThroughputCapacity_df['MonthSort'].map(str).str.zfill(2)\n",
    "\n",
    "\n",
    "PipelinesThroughputCapacity_df.reset_index (inplace=True)\n",
    "\n",
    "PipelinesThroughputCapacity_df.head()\n",
    "\n",
    "\n"
   ]
  },
  {
   "cell_type": "code",
   "execution_count": 29,
   "metadata": {},
   "outputs": [
    {
     "name": "stdout",
     "output_type": "stream",
     "text": [
      "        index  MonthSort     Month  Year  \\\n",
      "0           0          1   January  2006   \n",
      "1           0          1   January  2006   \n",
      "2           0          1   January  2006   \n",
      "3           0          1   January  2006   \n",
      "4           0          1   January  2006   \n",
      "...       ...        ...       ...   ...   \n",
      "165784     11         12  December  2017   \n",
      "165785     11         12  December  2017   \n",
      "165786     11         12  December  2018   \n",
      "165787     11         12  December  2018   \n",
      "165788     11         12  December  2018   \n",
      "\n",
      "                             Corporate Entity      Pipeline Name Key Point  \\\n",
      "0       Alliance Pipeline Limited Partnership  Alliance Pipeline    Border   \n",
      "1       Alliance Pipeline Limited Partnership  Alliance Pipeline    Border   \n",
      "2       Alliance Pipeline Limited Partnership  Alliance Pipeline    Border   \n",
      "3       Alliance Pipeline Limited Partnership  Alliance Pipeline    Border   \n",
      "4       Alliance Pipeline Limited Partnership  Alliance Pipeline    Border   \n",
      "...                                       ...                ...       ...   \n",
      "165784  TEML Westpur Pipelines Limited (TEML)   Westpur Pipeline    system   \n",
      "165785  TEML Westpur Pipelines Limited (TEML)   Westpur Pipeline    system   \n",
      "165786  TEML Westpur Pipelines Limited (TEML)   Westpur Pipeline    system   \n",
      "165787  TEML Westpur Pipelines Limited (TEML)   Westpur Pipeline    system   \n",
      "165788  TEML Westpur Pipelines Limited (TEML)   Westpur Pipeline    system   \n",
      "\n",
      "        Latitude  Longitude Direction of Flow   Trade Type  \\\n",
      "0           49.0   -101.588         southeast       export   \n",
      "1           49.0   -101.588         southeast       export   \n",
      "2           49.0   -101.588         southeast       export   \n",
      "3           49.0   -101.588         southeast       export   \n",
      "4           49.0   -101.588         southeast       export   \n",
      "...          ...        ...               ...          ...   \n",
      "165784       NaN        NaN     not available  intracanada   \n",
      "165785       NaN        NaN     not available  intracanada   \n",
      "165786       NaN        NaN     not available  intracanada   \n",
      "165787       NaN        NaN     not available  intracanada   \n",
      "165788       NaN        NaN     not available  intracanada   \n",
      "\n",
      "        Available Capacity (1000 m3/d)  Throughput (1000 m3/d)  \\\n",
      "0                         51717.212324            48884.199219   \n",
      "1                         51733.310913            48708.101562   \n",
      "2                         51748.750890            48355.300781   \n",
      "3                         51763.527545            49248.500000   \n",
      "4                         51777.636370            49377.800781   \n",
      "...                                ...                     ...   \n",
      "165784                       39.333524               20.951653   \n",
      "165785                       39.333524                6.871120   \n",
      "165786                       39.333524                0.282326   \n",
      "165787                       39.333524               23.183305   \n",
      "165788                       39.333524                7.661816   \n",
      "\n",
      "                            Product      MonthYear MonthYearSort  \n",
      "0                       natural gas   January 2006        200601  \n",
      "1                       natural gas   January 2006        200601  \n",
      "2                       natural gas   January 2006        200601  \n",
      "3                       natural gas   January 2006        200601  \n",
      "4                       natural gas   January 2006        200601  \n",
      "...                             ...            ...           ...  \n",
      "165784  south east sask (ses) crude  December 2017        201712  \n",
      "165785  westspur midale (msm) crude  December 2017        201712  \n",
      "165786    natural gas liquids (ngl)  December 2018        201812  \n",
      "165787  south east sask (ses) crude  December 2018        201812  \n",
      "165788  westspur midale (msm) crude  December 2018        201812  \n",
      "\n",
      "[165789 rows x 16 columns]\n"
     ]
    }
   ],
   "source": [
    "print(PipelinesThroughputCapacity_df)"
   ]
  },
  {
   "cell_type": "markdown",
   "metadata": {},
   "source": [
    "## Groupby data for creating Throughput/Capacity chart"
   ]
  },
  {
   "cell_type": "code",
   "execution_count": 30,
   "metadata": {},
   "outputs": [
    {
     "name": "stdout",
     "output_type": "stream",
     "text": [
      "                                   Available Capacity (1000 m3/d)  \\\n",
      "Pipeline Name                                                       \n",
      "Alliance Pipeline                                    52385.388303   \n",
      "BC Pipeline                                          48214.000000   \n",
      "Canadian Mainline                                   209646.227900   \n",
      "Cochin                                                  15.103792   \n",
      "Foothills System                                     85000.000000   \n",
      "Keystone Pipeline System                                96.650000   \n",
      "NGTL System                                         302165.000000   \n",
      "Norman Wells Pipeline                                    2.600000   \n",
      "Southern Lights Pipeline                                36.100000   \n",
      "Trans Mountain Pipeline                                 55.000000   \n",
      "Trans Québec & Maritimes Pipeline                    24384.000000   \n",
      "Trans-Northern                                                NaN   \n",
      "Westpur Pipeline                                        39.333524   \n",
      "\n",
      "                                   Throughput (1000 m3/d)  \n",
      "Pipeline Name                                              \n",
      "Alliance Pipeline                            53570.601562  \n",
      "BC Pipeline                                  40240.390000  \n",
      "Canadian Mainline                           205384.545100  \n",
      "Cochin                                          88.237945  \n",
      "Foothills System                             72391.400000  \n",
      "Keystone Pipeline System                        95.590000  \n",
      "NGTL System                                 303616.681176  \n",
      "Norman Wells Pipeline                            3.693615  \n",
      "Southern Lights Pipeline                        25.825879  \n",
      "Trans Mountain Pipeline                         35.900000  \n",
      "Trans Québec & Maritimes Pipeline            23992.200000  \n",
      "Trans-Northern                                  38.833333  \n",
      "Westpur Pipeline                                23.305076  \n"
     ]
    }
   ],
   "source": [
    "##PipelinesThroughputCapacity_df[''] group by PIpelineName, Max Available Capacity value\n",
    "\n",
    "import numpy as np\n",
    "\n",
    "PipelineCapacity_df = PipelinesThroughputCapacity_df.groupby('Pipeline Name').agg({'Available Capacity (1000 m3/d)': np.max, 'Throughput (1000 m3/d)': np.max})\n",
    "\n",
    "print(PipelineCapacity_df)"
   ]
  },
  {
   "cell_type": "code",
   "execution_count": 31,
   "metadata": {},
   "outputs": [
    {
     "name": "stdout",
     "output_type": "stream",
     "text": [
      "<class 'pandas.core.frame.DataFrame'>\n",
      "RangeIndex: 13 entries, 0 to 12\n",
      "Data columns (total 3 columns):\n",
      "Pipeline Name                     13 non-null object\n",
      "Available Capacity (1000 m3/d)    12 non-null float64\n",
      "Throughput (1000 m3/d)            13 non-null float64\n",
      "dtypes: float64(2), object(1)\n",
      "memory usage: 440.0+ bytes\n"
     ]
    }
   ],
   "source": [
    "## reset index to return Pipeline name as a column\n",
    "PipelineCapacity_df.reset_index(level=0, inplace=True)\n",
    "PipelineCapacity_df.info()\n"
   ]
  },
  {
   "cell_type": "code",
   "execution_count": 32,
   "metadata": {},
   "outputs": [
    {
     "data": {
      "image/png": "[encoded data removed]",
      "text/plain": [
       "<Figure size 432x288 with 1 Axes>"
      ]
     },
     "metadata": {
      "needs_background": "light"
     },
     "output_type": "display_data"
    }
   ],
   "source": [
    "## basic plot\n",
    "\n",
    "ax = PipelineCapacity_df.plot.barh(x='Pipeline Name', rot=0)"
   ]
  },
  {
   "cell_type": "markdown",
   "metadata": {},
   "source": [
    "## Low capacity pipeline charts"
   ]
  },
  {
   "cell_type": "code",
   "execution_count": 33,
   "metadata": {},
   "outputs": [
    {
     "name": "stdout",
     "output_type": "stream",
     "text": [
      "               Pipeline Name  Available Capacity (1000 m3/d)  \\\n",
      "3                     Cochin                       15.103792   \n",
      "5   Keystone Pipeline System                       96.650000   \n",
      "7      Norman Wells Pipeline                        2.600000   \n",
      "8   Southern Lights Pipeline                       36.100000   \n",
      "9    Trans Mountain Pipeline                       55.000000   \n",
      "11            Trans-Northern                             NaN   \n",
      "12          Westpur Pipeline                       39.333524   \n",
      "\n",
      "    Throughput (1000 m3/d)  \n",
      "3                88.237945  \n",
      "5                95.590000  \n",
      "7                 3.693615  \n",
      "8                25.825879  \n",
      "9                35.900000  \n",
      "11               38.833333  \n",
      "12               23.305076  \n"
     ]
    }
   ],
   "source": [
    "## low capacity pipelines not showing on charts, keep columns only where rate is less than 1000\n",
    "\n",
    "dropcodes = PipelineCapacity_df[(PipelineCapacity_df['Available Capacity (1000 m3/d)']> 1000) | (PipelineCapacity_df['Throughput (1000 m3/d)']> 1000)].index\n",
    "PipelineLowCapacity_df = PipelineCapacity_df.drop(dropcodes, inplace=False)\n",
    "\n",
    "print(PipelineLowCapacity_df)"
   ]
  },
  {
   "cell_type": "code",
   "execution_count": 34,
   "metadata": {},
   "outputs": [
    {
     "data": {
      "image/png": "[encoded data removed]",
      "text/plain": [
       "<Figure size 432x288 with 1 Axes>"
      ]
     },
     "metadata": {
      "needs_background": "light"
     },
     "output_type": "display_data"
    }
   ],
   "source": [
    "## basic plot\n",
    "\n",
    "ax = PipelineLowCapacity_df.plot.barh(x='Pipeline Name', rot=0)\n",
    "\n"
   ]
  },
  {
   "cell_type": "markdown",
   "metadata": {},
   "source": [
    "## Outlier with Cochin discovered"
   ]
  },
  {
   "cell_type": "code",
   "execution_count": 35,
   "metadata": {},
   "outputs": [
    {
     "name": "stdout",
     "output_type": "stream",
     "text": [
      "        index  MonthSort     Month  Year Corporate Entity Pipeline Name  \\\n",
      "14043       0          1   January  2015    Kinder Morgan        Cochin   \n",
      "14044       0          1   January  2015    Kinder Morgan        Cochin   \n",
      "14045       0          1   January  2016    Kinder Morgan        Cochin   \n",
      "14046       0          1   January  2016    Kinder Morgan        Cochin   \n",
      "14047       0          1   January  2017    Kinder Morgan        Cochin   \n",
      "...       ...        ...       ...   ...              ...           ...   \n",
      "165557     11         12  December  2016    Kinder Morgan        Cochin   \n",
      "165558     11         12  December  2016    Kinder Morgan        Cochin   \n",
      "165559     11         12  December  2017    Kinder Morgan        Cochin   \n",
      "165560     11         12  December  2017    Kinder Morgan        Cochin   \n",
      "165561     11         12  December  2018    Kinder Morgan        Cochin   \n",
      "\n",
      "               Key Point  Latitude  Longitude Direction of Flow Trade Type  \\\n",
      "14043   Ft. Saskatchewan     53.75   -113.170              west     import   \n",
      "14044            Windsor     42.28    -83.077              east     import   \n",
      "14045   Ft. Saskatchewan     53.75   -113.170              west     import   \n",
      "14046            Windsor     42.28    -83.077              east     import   \n",
      "14047   Ft. Saskatchewan     53.75   -113.170              west     import   \n",
      "...                  ...       ...        ...               ...        ...   \n",
      "165557  Ft. Saskatchewan     53.75   -113.170              west     import   \n",
      "165558           Windsor     42.28    -83.077              east     import   \n",
      "165559  Ft. Saskatchewan     53.75   -113.170              west     import   \n",
      "165560           Windsor     42.28    -83.077              east     import   \n",
      "165561  Ft. Saskatchewan     53.75   -113.170              west     import   \n",
      "\n",
      "        Available Capacity (1000 m3/d)  Throughput (1000 m3/d)  \\\n",
      "14043                        15.103792               12.887279   \n",
      "14044                        12.083034                0.000000   \n",
      "14045                        15.103792               14.696888   \n",
      "14046                        12.083034                0.000000   \n",
      "14047                        15.103792               13.739810   \n",
      "...                                ...                     ...   \n",
      "165557                       15.103792               14.997302   \n",
      "165558                       12.083034                0.471700   \n",
      "165559                       15.103792               12.702982   \n",
      "165560                       12.083034                0.000000   \n",
      "165561                       15.103792               12.919728   \n",
      "\n",
      "                           Product      MonthYear MonthYearSort  \n",
      "14043                   condensate   January 2015        201501  \n",
      "14044   refined petroleum products   January 2015        201501  \n",
      "14045                   condensate   January 2016        201601  \n",
      "14046   refined petroleum products   January 2016        201601  \n",
      "14047                   condensate   January 2017        201701  \n",
      "...                            ...            ...           ...  \n",
      "165557                  condensate  December 2016        201612  \n",
      "165558  refined petroleum products  December 2016        201612  \n",
      "165559                  condensate  December 2017        201712  \n",
      "165560  refined petroleum products  December 2017        201712  \n",
      "165561                  condensate  December 2018        201812  \n",
      "\n",
      "[106 rows x 16 columns]\n"
     ]
    }
   ],
   "source": [
    "##outlier with Cochin discovered, rerun PipelineThroughput capacity dataframe and draw plot with only cochin data\n",
    "\n",
    "cochin = PipelinesThroughputCapacity_df.loc[(PipelinesThroughputCapacity_df['Pipeline Name'] == 'Cochin')]\n",
    "\n",
    "print(cochin)"
   ]
  },
  {
   "cell_type": "code",
   "execution_count": 36,
   "metadata": {},
   "outputs": [
    {
     "data": {
      "image/png": "[encoded data removed]",
      "text/plain": [
       "<Figure size 1080x360 with 1 Axes>"
      ]
     },
     "metadata": {
      "needs_background": "light"
     },
     "output_type": "display_data"
    }
   ],
   "source": [
    "## scatter plot to confirm outlier\n",
    "\n",
    "plot = cochin.plot(kind='scatter', x= 'Year', y= 'Throughput (1000 m3/d)', figsize=(15,5))"
   ]
  },
  {
   "cell_type": "code",
   "execution_count": 37,
   "metadata": {},
   "outputs": [
    {
     "data": {
      "text/html": [
       "<div>\n",
       "<style scoped>\n",
       "    .dataframe tbody tr th:only-of-type {\n",
       "        vertical-align: middle;\n",
       "    }\n",
       "\n",
       "    .dataframe tbody tr th {\n",
       "        vertical-align: top;\n",
       "    }\n",
       "\n",
       "    .dataframe thead th {\n",
       "        text-align: right;\n",
       "    }\n",
       "</style>\n",
       "<table border=\"1\" class=\"dataframe\">\n",
       "  <thead>\n",
       "    <tr style=\"text-align: right;\">\n",
       "      <th></th>\n",
       "      <th>index</th>\n",
       "      <th>MonthSort</th>\n",
       "      <th>Month</th>\n",
       "      <th>Year</th>\n",
       "      <th>Corporate Entity</th>\n",
       "      <th>Pipeline Name</th>\n",
       "      <th>Key Point</th>\n",
       "      <th>Latitude</th>\n",
       "      <th>Longitude</th>\n",
       "      <th>Direction of Flow</th>\n",
       "      <th>Trade Type</th>\n",
       "      <th>Available Capacity (1000 m3/d)</th>\n",
       "      <th>Throughput (1000 m3/d)</th>\n",
       "      <th>Product</th>\n",
       "      <th>MonthYear</th>\n",
       "      <th>MonthYearSort</th>\n",
       "    </tr>\n",
       "  </thead>\n",
       "  <tbody>\n",
       "    <tr>\n",
       "      <td>97662</td>\n",
       "      <td>6</td>\n",
       "      <td>7</td>\n",
       "      <td>July</td>\n",
       "      <td>2014</td>\n",
       "      <td>Kinder Morgan</td>\n",
       "      <td>Cochin</td>\n",
       "      <td>Ft. Saskatchewan</td>\n",
       "      <td>53.750</td>\n",
       "      <td>-113.170</td>\n",
       "      <td>west</td>\n",
       "      <td>import</td>\n",
       "      <td>15.103792</td>\n",
       "      <td>0.532833</td>\n",
       "      <td>condensate</td>\n",
       "      <td>July 2014</td>\n",
       "      <td>201407</td>\n",
       "    </tr>\n",
       "    <tr>\n",
       "      <td>97663</td>\n",
       "      <td>6</td>\n",
       "      <td>7</td>\n",
       "      <td>July</td>\n",
       "      <td>2014</td>\n",
       "      <td>Kinder Morgan</td>\n",
       "      <td>Cochin</td>\n",
       "      <td>Regina</td>\n",
       "      <td>50.466</td>\n",
       "      <td>-104.718</td>\n",
       "      <td>east</td>\n",
       "      <td>import</td>\n",
       "      <td>NaN</td>\n",
       "      <td>0.014601</td>\n",
       "      <td>refined petroleum products</td>\n",
       "      <td>July 2014</td>\n",
       "      <td>201407</td>\n",
       "    </tr>\n",
       "    <tr>\n",
       "      <td>97664</td>\n",
       "      <td>6</td>\n",
       "      <td>7</td>\n",
       "      <td>July</td>\n",
       "      <td>2014</td>\n",
       "      <td>Kinder Morgan</td>\n",
       "      <td>Cochin</td>\n",
       "      <td>Windsor</td>\n",
       "      <td>42.280</td>\n",
       "      <td>-83.077</td>\n",
       "      <td>east</td>\n",
       "      <td>import</td>\n",
       "      <td>12.083034</td>\n",
       "      <td>0.001369</td>\n",
       "      <td>refined petroleum products</td>\n",
       "      <td>July 2014</td>\n",
       "      <td>201407</td>\n",
       "    </tr>\n",
       "    <tr>\n",
       "      <td>111986</td>\n",
       "      <td>7</td>\n",
       "      <td>8</td>\n",
       "      <td>August</td>\n",
       "      <td>2014</td>\n",
       "      <td>Kinder Morgan</td>\n",
       "      <td>Cochin</td>\n",
       "      <td>Ft. Saskatchewan</td>\n",
       "      <td>53.750</td>\n",
       "      <td>-113.170</td>\n",
       "      <td>west</td>\n",
       "      <td>import</td>\n",
       "      <td>15.103792</td>\n",
       "      <td>0.577185</td>\n",
       "      <td>condensate</td>\n",
       "      <td>August 2014</td>\n",
       "      <td>201408</td>\n",
       "    </tr>\n",
       "    <tr>\n",
       "      <td>111987</td>\n",
       "      <td>7</td>\n",
       "      <td>8</td>\n",
       "      <td>August</td>\n",
       "      <td>2014</td>\n",
       "      <td>Kinder Morgan</td>\n",
       "      <td>Cochin</td>\n",
       "      <td>Windsor</td>\n",
       "      <td>42.280</td>\n",
       "      <td>-83.077</td>\n",
       "      <td>east</td>\n",
       "      <td>import</td>\n",
       "      <td>12.083034</td>\n",
       "      <td>0.000000</td>\n",
       "      <td>refined petroleum products</td>\n",
       "      <td>August 2014</td>\n",
       "      <td>201408</td>\n",
       "    </tr>\n",
       "    <tr>\n",
       "      <td>125856</td>\n",
       "      <td>8</td>\n",
       "      <td>9</td>\n",
       "      <td>September</td>\n",
       "      <td>2014</td>\n",
       "      <td>Kinder Morgan</td>\n",
       "      <td>Cochin</td>\n",
       "      <td>Ft. Saskatchewan</td>\n",
       "      <td>53.750</td>\n",
       "      <td>-113.170</td>\n",
       "      <td>west</td>\n",
       "      <td>import</td>\n",
       "      <td>15.103792</td>\n",
       "      <td>10.899464</td>\n",
       "      <td>condensate</td>\n",
       "      <td>September 2014</td>\n",
       "      <td>201409</td>\n",
       "    </tr>\n",
       "    <tr>\n",
       "      <td>125857</td>\n",
       "      <td>8</td>\n",
       "      <td>9</td>\n",
       "      <td>September</td>\n",
       "      <td>2014</td>\n",
       "      <td>Kinder Morgan</td>\n",
       "      <td>Cochin</td>\n",
       "      <td>Windsor</td>\n",
       "      <td>42.280</td>\n",
       "      <td>-83.077</td>\n",
       "      <td>east</td>\n",
       "      <td>import</td>\n",
       "      <td>12.083034</td>\n",
       "      <td>0.000000</td>\n",
       "      <td>refined petroleum products</td>\n",
       "      <td>September 2014</td>\n",
       "      <td>201409</td>\n",
       "    </tr>\n",
       "    <tr>\n",
       "      <td>139226</td>\n",
       "      <td>9</td>\n",
       "      <td>10</td>\n",
       "      <td>October</td>\n",
       "      <td>2014</td>\n",
       "      <td>Kinder Morgan</td>\n",
       "      <td>Cochin</td>\n",
       "      <td>Ft. Saskatchewan</td>\n",
       "      <td>53.750</td>\n",
       "      <td>-113.170</td>\n",
       "      <td>west</td>\n",
       "      <td>import</td>\n",
       "      <td>15.103792</td>\n",
       "      <td>11.332096</td>\n",
       "      <td>condensate</td>\n",
       "      <td>October 2014</td>\n",
       "      <td>201410</td>\n",
       "    </tr>\n",
       "    <tr>\n",
       "      <td>139227</td>\n",
       "      <td>9</td>\n",
       "      <td>10</td>\n",
       "      <td>October</td>\n",
       "      <td>2014</td>\n",
       "      <td>Kinder Morgan</td>\n",
       "      <td>Cochin</td>\n",
       "      <td>Windsor</td>\n",
       "      <td>42.280</td>\n",
       "      <td>-83.077</td>\n",
       "      <td>east</td>\n",
       "      <td>import</td>\n",
       "      <td>12.083034</td>\n",
       "      <td>0.000000</td>\n",
       "      <td>refined petroleum products</td>\n",
       "      <td>October 2014</td>\n",
       "      <td>201410</td>\n",
       "    </tr>\n",
       "    <tr>\n",
       "      <td>152149</td>\n",
       "      <td>10</td>\n",
       "      <td>11</td>\n",
       "      <td>November</td>\n",
       "      <td>2014</td>\n",
       "      <td>Kinder Morgan</td>\n",
       "      <td>Cochin</td>\n",
       "      <td>Ft. Saskatchewan</td>\n",
       "      <td>53.750</td>\n",
       "      <td>-113.170</td>\n",
       "      <td>west</td>\n",
       "      <td>import</td>\n",
       "      <td>15.103792</td>\n",
       "      <td>10.217949</td>\n",
       "      <td>condensate</td>\n",
       "      <td>November 2014</td>\n",
       "      <td>201411</td>\n",
       "    </tr>\n",
       "    <tr>\n",
       "      <td>152150</td>\n",
       "      <td>10</td>\n",
       "      <td>11</td>\n",
       "      <td>November</td>\n",
       "      <td>2014</td>\n",
       "      <td>Kinder Morgan</td>\n",
       "      <td>Cochin</td>\n",
       "      <td>Windsor</td>\n",
       "      <td>42.280</td>\n",
       "      <td>-83.077</td>\n",
       "      <td>east</td>\n",
       "      <td>import</td>\n",
       "      <td>12.083034</td>\n",
       "      <td>0.000000</td>\n",
       "      <td>refined petroleum products</td>\n",
       "      <td>November 2014</td>\n",
       "      <td>201411</td>\n",
       "    </tr>\n",
       "    <tr>\n",
       "      <td>165553</td>\n",
       "      <td>11</td>\n",
       "      <td>12</td>\n",
       "      <td>December</td>\n",
       "      <td>2014</td>\n",
       "      <td>Kinder Morgan</td>\n",
       "      <td>Cochin</td>\n",
       "      <td>Ft. Saskatchewan</td>\n",
       "      <td>53.750</td>\n",
       "      <td>-113.170</td>\n",
       "      <td>west</td>\n",
       "      <td>import</td>\n",
       "      <td>15.103792</td>\n",
       "      <td>13.105450</td>\n",
       "      <td>condensate</td>\n",
       "      <td>December 2014</td>\n",
       "      <td>201412</td>\n",
       "    </tr>\n",
       "    <tr>\n",
       "      <td>165554</td>\n",
       "      <td>11</td>\n",
       "      <td>12</td>\n",
       "      <td>December</td>\n",
       "      <td>2014</td>\n",
       "      <td>Kinder Morgan</td>\n",
       "      <td>Cochin</td>\n",
       "      <td>Windsor</td>\n",
       "      <td>42.280</td>\n",
       "      <td>-83.077</td>\n",
       "      <td>east</td>\n",
       "      <td>import</td>\n",
       "      <td>12.083034</td>\n",
       "      <td>88.237945</td>\n",
       "      <td>refined petroleum products</td>\n",
       "      <td>December 2014</td>\n",
       "      <td>201412</td>\n",
       "    </tr>\n",
       "  </tbody>\n",
       "</table>\n",
       "</div>"
      ],
      "text/plain": [
       "        index  MonthSort      Month  Year Corporate Entity Pipeline Name  \\\n",
       "97662       6          7       July  2014    Kinder Morgan        Cochin   \n",
       "97663       6          7       July  2014    Kinder Morgan        Cochin   \n",
       "97664       6          7       July  2014    Kinder Morgan        Cochin   \n",
       "111986      7          8     August  2014    Kinder Morgan        Cochin   \n",
       "111987      7          8     August  2014    Kinder Morgan        Cochin   \n",
       "125856      8          9  September  2014    Kinder Morgan        Cochin   \n",
       "125857      8          9  September  2014    Kinder Morgan        Cochin   \n",
       "139226      9         10    October  2014    Kinder Morgan        Cochin   \n",
       "139227      9         10    October  2014    Kinder Morgan        Cochin   \n",
       "152149     10         11   November  2014    Kinder Morgan        Cochin   \n",
       "152150     10         11   November  2014    Kinder Morgan        Cochin   \n",
       "165553     11         12   December  2014    Kinder Morgan        Cochin   \n",
       "165554     11         12   December  2014    Kinder Morgan        Cochin   \n",
       "\n",
       "               Key Point  Latitude  Longitude Direction of Flow Trade Type  \\\n",
       "97662   Ft. Saskatchewan    53.750   -113.170              west     import   \n",
       "97663             Regina    50.466   -104.718              east     import   \n",
       "97664            Windsor    42.280    -83.077              east     import   \n",
       "111986  Ft. Saskatchewan    53.750   -113.170              west     import   \n",
       "111987           Windsor    42.280    -83.077              east     import   \n",
       "125856  Ft. Saskatchewan    53.750   -113.170              west     import   \n",
       "125857           Windsor    42.280    -83.077              east     import   \n",
       "139226  Ft. Saskatchewan    53.750   -113.170              west     import   \n",
       "139227           Windsor    42.280    -83.077              east     import   \n",
       "152149  Ft. Saskatchewan    53.750   -113.170              west     import   \n",
       "152150           Windsor    42.280    -83.077              east     import   \n",
       "165553  Ft. Saskatchewan    53.750   -113.170              west     import   \n",
       "165554           Windsor    42.280    -83.077              east     import   \n",
       "\n",
       "        Available Capacity (1000 m3/d)  Throughput (1000 m3/d)  \\\n",
       "97662                        15.103792                0.532833   \n",
       "97663                              NaN                0.014601   \n",
       "97664                        12.083034                0.001369   \n",
       "111986                       15.103792                0.577185   \n",
       "111987                       12.083034                0.000000   \n",
       "125856                       15.103792               10.899464   \n",
       "125857                       12.083034                0.000000   \n",
       "139226                       15.103792               11.332096   \n",
       "139227                       12.083034                0.000000   \n",
       "152149                       15.103792               10.217949   \n",
       "152150                       12.083034                0.000000   \n",
       "165553                       15.103792               13.105450   \n",
       "165554                       12.083034               88.237945   \n",
       "\n",
       "                           Product       MonthYear MonthYearSort  \n",
       "97662                   condensate       July 2014        201407  \n",
       "97663   refined petroleum products       July 2014        201407  \n",
       "97664   refined petroleum products       July 2014        201407  \n",
       "111986                  condensate     August 2014        201408  \n",
       "111987  refined petroleum products     August 2014        201408  \n",
       "125856                  condensate  September 2014        201409  \n",
       "125857  refined petroleum products  September 2014        201409  \n",
       "139226                  condensate    October 2014        201410  \n",
       "139227  refined petroleum products    October 2014        201410  \n",
       "152149                  condensate   November 2014        201411  \n",
       "152150  refined petroleum products   November 2014        201411  \n",
       "165553                  condensate   December 2014        201412  \n",
       "165554  refined petroleum products   December 2014        201412  "
      ]
     },
     "execution_count": 37,
     "metadata": {},
     "output_type": "execute_result"
    }
   ],
   "source": [
    "## look up year where outlier is found\n",
    "\n",
    "cochin.loc[(cochin['Year'] == 2014)]"
   ]
  },
  {
   "cell_type": "markdown",
   "metadata": {},
   "source": [
    "# ERROR FIX"
   ]
  },
  {
   "cell_type": "code",
   "execution_count": 38,
   "metadata": {},
   "outputs": [
    {
     "data": {
      "text/plain": [
       "Int64Index([165554], dtype='int64')"
      ]
     },
     "execution_count": 38,
     "metadata": {},
     "output_type": "execute_result"
    }
   ],
   "source": [
    "## find index to drop\n",
    "PipelinesThroughputCapacity_df.loc[(PipelinesThroughputCapacity_df['Pipeline Name'] == 'Cochin') & (PipelinesThroughputCapacity_df['Throughput (1000 m3/d)'] > 80) ].index\n"
   ]
  },
  {
   "cell_type": "raw",
   "metadata": {},
   "source": [
    "PipelinesThroughputCapacity_df.info()"
   ]
  },
  {
   "cell_type": "code",
   "execution_count": 39,
   "metadata": {},
   "outputs": [
    {
     "name": "stdout",
     "output_type": "stream",
     "text": [
      "<class 'pandas.core.frame.DataFrame'>\n",
      "Int64Index: 165788 entries, 0 to 165788\n",
      "Data columns (total 16 columns):\n",
      "index                             165788 non-null int64\n",
      "MonthSort                         165788 non-null int64\n",
      "Month                             165788 non-null object\n",
      "Year                              165788 non-null int64\n",
      "Corporate Entity                  165788 non-null object\n",
      "Pipeline Name                     165788 non-null object\n",
      "Key Point                         165788 non-null object\n",
      "Latitude                          165513 non-null float64\n",
      "Longitude                         165513 non-null float64\n",
      "Direction of Flow                 165788 non-null object\n",
      "Trade Type                        165788 non-null object\n",
      "Available Capacity (1000 m3/d)    165345 non-null float64\n",
      "Throughput (1000 m3/d)            165584 non-null float64\n",
      "Product                           165788 non-null object\n",
      "MonthYear                         165788 non-null object\n",
      "MonthYearSort                     165788 non-null object\n",
      "dtypes: float64(4), int64(3), object(9)\n",
      "memory usage: 21.5+ MB\n"
     ]
    }
   ],
   "source": [
    "## remove data where throughput for cochin is greater than value of 80 * 1000m3/d\n",
    "\n",
    "PipelineThroughputCapacity_df = PipelinesThroughputCapacity_df.drop([165554], inplace=True) ## check to make sure line 38 reads the same index inputted\n",
    "\n",
    "PipelinesThroughputCapacity_df.info()"
   ]
  },
  {
   "cell_type": "code",
   "execution_count": 40,
   "metadata": {},
   "outputs": [
    {
     "name": "stdout",
     "output_type": "stream",
     "text": [
      "        index  MonthSort     Month  Year  \\\n",
      "0           0          1   January  2006   \n",
      "1           0          1   January  2006   \n",
      "2           0          1   January  2006   \n",
      "3           0          1   January  2006   \n",
      "4           0          1   January  2006   \n",
      "...       ...        ...       ...   ...   \n",
      "165784     11         12  December  2017   \n",
      "165785     11         12  December  2017   \n",
      "165786     11         12  December  2018   \n",
      "165787     11         12  December  2018   \n",
      "165788     11         12  December  2018   \n",
      "\n",
      "                             Corporate Entity      Pipeline Name Key Point  \\\n",
      "0       Alliance Pipeline Limited Partnership  Alliance Pipeline    Border   \n",
      "1       Alliance Pipeline Limited Partnership  Alliance Pipeline    Border   \n",
      "2       Alliance Pipeline Limited Partnership  Alliance Pipeline    Border   \n",
      "3       Alliance Pipeline Limited Partnership  Alliance Pipeline    Border   \n",
      "4       Alliance Pipeline Limited Partnership  Alliance Pipeline    Border   \n",
      "...                                       ...                ...       ...   \n",
      "165784  TEML Westpur Pipelines Limited (TEML)   Westpur Pipeline    system   \n",
      "165785  TEML Westpur Pipelines Limited (TEML)   Westpur Pipeline    system   \n",
      "165786  TEML Westpur Pipelines Limited (TEML)   Westpur Pipeline    system   \n",
      "165787  TEML Westpur Pipelines Limited (TEML)   Westpur Pipeline    system   \n",
      "165788  TEML Westpur Pipelines Limited (TEML)   Westpur Pipeline    system   \n",
      "\n",
      "        Latitude  Longitude Direction of Flow   Trade Type  \\\n",
      "0           49.0   -101.588         southeast       export   \n",
      "1           49.0   -101.588         southeast       export   \n",
      "2           49.0   -101.588         southeast       export   \n",
      "3           49.0   -101.588         southeast       export   \n",
      "4           49.0   -101.588         southeast       export   \n",
      "...          ...        ...               ...          ...   \n",
      "165784       NaN        NaN     not available  intracanada   \n",
      "165785       NaN        NaN     not available  intracanada   \n",
      "165786       NaN        NaN     not available  intracanada   \n",
      "165787       NaN        NaN     not available  intracanada   \n",
      "165788       NaN        NaN     not available  intracanada   \n",
      "\n",
      "        Available Capacity (1000 m3/d)  Throughput (1000 m3/d)  \\\n",
      "0                         51717.212324            48884.199219   \n",
      "1                         51733.310913            48708.101562   \n",
      "2                         51748.750890            48355.300781   \n",
      "3                         51763.527545            49248.500000   \n",
      "4                         51777.636370            49377.800781   \n",
      "...                                ...                     ...   \n",
      "165784                       39.333524               20.951653   \n",
      "165785                       39.333524                6.871120   \n",
      "165786                       39.333524                0.282326   \n",
      "165787                       39.333524               23.183305   \n",
      "165788                       39.333524                7.661816   \n",
      "\n",
      "                            Product      MonthYear MonthYearSort  \n",
      "0                       natural gas   January 2006        200601  \n",
      "1                       natural gas   January 2006        200601  \n",
      "2                       natural gas   January 2006        200601  \n",
      "3                       natural gas   January 2006        200601  \n",
      "4                       natural gas   January 2006        200601  \n",
      "...                             ...            ...           ...  \n",
      "165784  south east sask (ses) crude  December 2017        201712  \n",
      "165785  westspur midale (msm) crude  December 2017        201712  \n",
      "165786    natural gas liquids (ngl)  December 2018        201812  \n",
      "165787  south east sask (ses) crude  December 2018        201812  \n",
      "165788  westspur midale (msm) crude  December 2018        201812  \n",
      "\n",
      "[165788 rows x 16 columns]\n"
     ]
    }
   ],
   "source": [
    "print(PipelinesThroughputCapacity_df)"
   ]
  },
  {
   "cell_type": "code",
   "execution_count": 41,
   "metadata": {},
   "outputs": [
    {
     "data": {
      "text/html": [
       "<div>\n",
       "<style scoped>\n",
       "    .dataframe tbody tr th:only-of-type {\n",
       "        vertical-align: middle;\n",
       "    }\n",
       "\n",
       "    .dataframe tbody tr th {\n",
       "        vertical-align: top;\n",
       "    }\n",
       "\n",
       "    .dataframe thead th {\n",
       "        text-align: right;\n",
       "    }\n",
       "</style>\n",
       "<table border=\"1\" class=\"dataframe\">\n",
       "  <thead>\n",
       "    <tr style=\"text-align: right;\">\n",
       "      <th></th>\n",
       "      <th>index</th>\n",
       "      <th>MonthSort</th>\n",
       "      <th>Month</th>\n",
       "      <th>Year</th>\n",
       "      <th>Corporate Entity</th>\n",
       "      <th>Pipeline Name</th>\n",
       "      <th>Key Point</th>\n",
       "      <th>Latitude</th>\n",
       "      <th>Longitude</th>\n",
       "      <th>Direction of Flow</th>\n",
       "      <th>Trade Type</th>\n",
       "      <th>Available Capacity (1000 m3/d)</th>\n",
       "      <th>Throughput (1000 m3/d)</th>\n",
       "      <th>Product</th>\n",
       "      <th>MonthYear</th>\n",
       "      <th>MonthYearSort</th>\n",
       "    </tr>\n",
       "  </thead>\n",
       "  <tbody>\n",
       "  </tbody>\n",
       "</table>\n",
       "</div>"
      ],
      "text/plain": [
       "Empty DataFrame\n",
       "Columns: [index, MonthSort, Month, Year, Corporate Entity, Pipeline Name, Key Point, Latitude, Longitude, Direction of Flow, Trade Type, Available Capacity (1000 m3/d), Throughput (1000 m3/d), Product, MonthYear, MonthYearSort]\n",
       "Index: []"
      ]
     },
     "execution_count": 41,
     "metadata": {},
     "output_type": "execute_result"
    }
   ],
   "source": [
    "## look up to check index dropped\n",
    "PipelinesThroughputCapacity_df.loc[(PipelinesThroughputCapacity_df['Pipeline Name'] == 'Cochin') & (PipelinesThroughputCapacity_df['Throughput (1000 m3/d)'] > 80) ]\n",
    "\n"
   ]
  },
  {
   "cell_type": "markdown",
   "metadata": {},
   "source": [
    "## Revise PipelineCapacity group by data"
   ]
  },
  {
   "cell_type": "code",
   "execution_count": 42,
   "metadata": {},
   "outputs": [
    {
     "name": "stdout",
     "output_type": "stream",
     "text": [
      "<class 'pandas.core.frame.DataFrame'>\n",
      "RangeIndex: 13 entries, 0 to 12\n",
      "Data columns (total 3 columns):\n",
      "Pipeline Name                     13 non-null object\n",
      "Available Capacity (1000 m3/d)    12 non-null float64\n",
      "Throughput (1000 m3/d)            13 non-null float64\n",
      "dtypes: float64(2), object(1)\n",
      "memory usage: 440.0+ bytes\n"
     ]
    }
   ],
   "source": [
    "## rerun Group by data \n",
    "import numpy as np\n",
    "\n",
    "PipelineCapacityR_df = PipelinesThroughputCapacity_df.groupby('Pipeline Name').agg({'Available Capacity (1000 m3/d)': np.max, 'Throughput (1000 m3/d)': np.max})\n",
    "\n",
    "## reset index to return Pipeline name as a column\n",
    "PipelineCapacityR_df.reset_index(level=0, inplace=True)\n",
    "PipelineCapacityR_df.info()\n"
   ]
  },
  {
   "cell_type": "markdown",
   "metadata": {},
   "source": [
    "## Revise PipelineLowCapacity data"
   ]
  },
  {
   "cell_type": "code",
   "execution_count": 43,
   "metadata": {},
   "outputs": [
    {
     "name": "stdout",
     "output_type": "stream",
     "text": [
      "               Pipeline Name  Available Capacity (1000 m3/d)  \\\n",
      "3                     Cochin                       15.103792   \n",
      "5   Keystone Pipeline System                       96.650000   \n",
      "7      Norman Wells Pipeline                        2.600000   \n",
      "8   Southern Lights Pipeline                       36.100000   \n",
      "9    Trans Mountain Pipeline                       55.000000   \n",
      "11            Trans-Northern                             NaN   \n",
      "12          Westpur Pipeline                       39.333524   \n",
      "\n",
      "    Throughput (1000 m3/d)  \n",
      "3                16.233936  \n",
      "5                95.590000  \n",
      "7                 3.693615  \n",
      "8                25.825879  \n",
      "9                35.900000  \n",
      "11               38.833333  \n",
      "12               23.305076  \n"
     ]
    }
   ],
   "source": [
    "## keep columns only where rate is less than 1000 for low capacity pipeline\n",
    "\n",
    "dropcodes = PipelineCapacityR_df[(PipelineCapacityR_df['Available Capacity (1000 m3/d)']> 1000) | (PipelineCapacityR_df['Throughput (1000 m3/d)']> 1000)].index\n",
    "PipelineLowCapacity_df = PipelineCapacityR_df.drop(dropcodes, inplace=False)\n",
    "\n",
    "print(PipelineLowCapacity_df)"
   ]
  },
  {
   "cell_type": "code",
   "execution_count": 44,
   "metadata": {},
   "outputs": [
    {
     "data": {
      "image/png": "[encoded data removed]",
      "text/plain": [
       "<Figure size 432x288 with 1 Axes>"
      ]
     },
     "metadata": {
      "needs_background": "light"
     },
     "output_type": "display_data"
    }
   ],
   "source": [
    "## basic plot\n",
    "ax = PipelineLowCapacity_df.plot.barh(x='Pipeline Name', rot=0)\n",
    "\n"
   ]
  },
  {
   "cell_type": "markdown",
   "metadata": {},
   "source": [
    "## High capacity pipeline charts\n"
   ]
  },
  {
   "cell_type": "code",
   "execution_count": 45,
   "metadata": {},
   "outputs": [
    {
     "name": "stdout",
     "output_type": "stream",
     "text": [
      "                        Pipeline Name  Available Capacity (1000 m3/d)  \\\n",
      "0                   Alliance Pipeline                    52385.388303   \n",
      "1                         BC Pipeline                    48214.000000   \n",
      "2                   Canadian Mainline                   209646.227900   \n",
      "4                    Foothills System                    85000.000000   \n",
      "6                         NGTL System                   302165.000000   \n",
      "10  Trans Québec & Maritimes Pipeline                    24384.000000   \n",
      "\n",
      "    Throughput (1000 m3/d)  \n",
      "0             53570.601562  \n",
      "1             40240.390000  \n",
      "2            205384.545100  \n",
      "4             72391.400000  \n",
      "6            303616.681176  \n",
      "10            23992.200000  \n"
     ]
    }
   ],
   "source": [
    "## keep columns only where rate is greater than or equal to 1000\n",
    "\n",
    "dropcodes = PipelineCapacityR_df[(PipelineCapacityR_df['Available Capacity (1000 m3/d)']<= 1000) | (PipelineCapacityR_df['Throughput (1000 m3/d)']<= 1000)].index\n",
    "PipelineHighCapacity_df = PipelineCapacityR_df.drop(dropcodes, inplace=False)\n",
    "\n",
    "print(PipelineHighCapacity_df)"
   ]
  },
  {
   "cell_type": "code",
   "execution_count": 46,
   "metadata": {},
   "outputs": [
    {
     "data": {
      "image/png": "[encoded data removed]",
      "text/plain": [
       "<Figure size 432x288 with 1 Axes>"
      ]
     },
     "metadata": {
      "needs_background": "light"
     },
     "output_type": "display_data"
    }
   ],
   "source": [
    "## basic plot\n",
    "\n",
    "ax = PipelineHighCapacity_df.plot.barh(x='Pipeline Name', rot=0)"
   ]
  },
  {
   "cell_type": "markdown",
   "metadata": {},
   "source": [
    "## Groupby data by product type "
   ]
  },
  {
   "cell_type": "code",
   "execution_count": 47,
   "metadata": {},
   "outputs": [
    {
     "name": "stdout",
     "output_type": "stream",
     "text": [
      "                             Available Capacity (1000 m3/d)  \\\n",
      "Product                                                       \n",
      "condensate                                        15.103792   \n",
      "diluent                                           36.100000   \n",
      "domestic heavy                                   460.905000   \n",
      "domestic light                                    96.650000   \n",
      "domestic light / ngl                             460.905000   \n",
      "foreign light                                    460.905000   \n",
      "natural gas                                   302165.000000   \n",
      "natural gas liquids (ngl)                         39.333524   \n",
      "refined petroleum products                        55.000000   \n",
      "south east sask (ses) crude                       39.333524   \n",
      "westspur midale (msm) crude                       39.333524   \n",
      "\n",
      "                             Throughput (1000 m3/d)  \n",
      "Product                                              \n",
      "condensate                                16.233936  \n",
      "diluent                                   25.825879  \n",
      "domestic heavy                           283.000000  \n",
      "domestic light                            35.900000  \n",
      "domestic light / ngl                      94.900000  \n",
      "foreign light                             37.800000  \n",
      "natural gas                           303616.681176  \n",
      "natural gas liquids (ngl)                  0.368010  \n",
      "refined petroleum products                38.833333  \n",
      "south east sask (ses) crude               23.305076  \n",
      "westspur midale (msm) crude                7.661816  \n"
     ]
    }
   ],
   "source": [
    "##PipelinesThroughputCapacity_df[''] group by ProductType, Max Available Capacity value\n",
    "\n",
    "import numpy as np\n",
    "\n",
    "PipelineCapacityPT_df = PipelinesThroughputCapacity_df.groupby('Product').agg({'Available Capacity (1000 m3/d)': np.max, 'Throughput (1000 m3/d)': np.max})\n",
    "\n",
    "print(PipelineCapacityPT_df)"
   ]
  },
  {
   "cell_type": "code",
   "execution_count": 48,
   "metadata": {},
   "outputs": [
    {
     "name": "stdout",
     "output_type": "stream",
     "text": [
      "<class 'pandas.core.frame.DataFrame'>\n",
      "RangeIndex: 11 entries, 0 to 10\n",
      "Data columns (total 3 columns):\n",
      "Product                           11 non-null object\n",
      "Available Capacity (1000 m3/d)    11 non-null float64\n",
      "Throughput (1000 m3/d)            11 non-null float64\n",
      "dtypes: float64(2), object(1)\n",
      "memory usage: 392.0+ bytes\n"
     ]
    }
   ],
   "source": [
    "PipelineCapacityPT_df.reset_index(level=0, inplace=True)\n",
    "PipelineCapacityPT_df.info()\n"
   ]
  },
  {
   "cell_type": "code",
   "execution_count": 49,
   "metadata": {},
   "outputs": [
    {
     "data": {
      "image/png": "[encoded data removed]",
      "text/plain": [
       "<Figure size 432x288 with 1 Axes>"
      ]
     },
     "metadata": {
      "needs_background": "light"
     },
     "output_type": "display_data"
    }
   ],
   "source": [
    "## basic plot\n",
    "\n",
    "ax = PipelineCapacityPT_df.plot.barh(x='Product', rot=0)"
   ]
  },
  {
   "cell_type": "markdown",
   "metadata": {},
   "source": [
    "## Groupby data by Trade type"
   ]
  },
  {
   "cell_type": "code",
   "execution_count": 50,
   "metadata": {},
   "outputs": [
    {
     "name": "stdout",
     "output_type": "stream",
     "text": [
      "                      Available Capacity (1000 m3/d)  Throughput (1000 m3/d)\n",
      "Trade Type                                                                  \n",
      "export                                     85000.000            72391.400000\n",
      "import                                     61000.000            55869.460000\n",
      "intracanada                               302165.000           303616.681176\n",
      "intracanada / export                         460.905              283.000000\n"
     ]
    }
   ],
   "source": [
    "##PipelinesThroughputCapacity_df[''] group by TradeType, Max Available Capacity value\n",
    "\n",
    "import numpy as np\n",
    "\n",
    "PipelineCapacityTT_df = PipelinesThroughputCapacity_df.groupby('Trade Type').agg({'Available Capacity (1000 m3/d)': np.max, 'Throughput (1000 m3/d)': np.max})\n",
    "\n",
    "print(PipelineCapacityTT_df)"
   ]
  },
  {
   "cell_type": "code",
   "execution_count": 51,
   "metadata": {},
   "outputs": [
    {
     "data": {
      "image/png": "[encoded data removed]",
      "text/plain": [
       "<Figure size 1080x360 with 2 Axes>"
      ]
     },
     "metadata": {},
     "output_type": "display_data"
    }
   ],
   "source": [
    "## create basic pie chart\n",
    "\n",
    "plot = PipelineCapacityTT_df.plot(kind='pie',subplots=True, figsize=(15,5), title='Capacity by Trade Type')"
   ]
  },
  {
   "cell_type": "code",
   "execution_count": 52,
   "metadata": {},
   "outputs": [
    {
     "data": {
      "image/png": "[encoded data removed]",
      "text/plain": [
       "<Figure size 1080x360 with 2 Axes>"
      ]
     },
     "metadata": {},
     "output_type": "display_data"
    }
   ],
   "source": [
    "## show pipeline capacity by trade type as a piechart\n",
    "\n",
    "plot = PipelineCapacityTT_df.plot.pie(subplots=True, figsize=(15,5))"
   ]
  },
  {
   "cell_type": "code",
   "execution_count": 53,
   "metadata": {},
   "outputs": [
    {
     "name": "stdout",
     "output_type": "stream",
     "text": [
      "<class 'pandas.core.frame.DataFrame'>\n",
      "RangeIndex: 4 entries, 0 to 3\n",
      "Data columns (total 3 columns):\n",
      "Trade Type                        4 non-null object\n",
      "Available Capacity (1000 m3/d)    4 non-null float64\n",
      "Throughput (1000 m3/d)            4 non-null float64\n",
      "dtypes: float64(2), object(1)\n",
      "memory usage: 224.0+ bytes\n"
     ]
    }
   ],
   "source": [
    "## Change trade type index to column\n",
    "PipelineCapacityTT_df.reset_index(level=0, inplace=True)\n",
    "PipelineCapacityTT_df.info()"
   ]
  },
  {
   "cell_type": "code",
   "execution_count": 54,
   "metadata": {},
   "outputs": [
    {
     "data": {
      "image/png": "[encoded data removed]",
      "text/plain": [
       "<Figure size 432x288 with 1 Axes>"
      ]
     },
     "metadata": {
      "needs_background": "light"
     },
     "output_type": "display_data"
    }
   ],
   "source": [
    "## basic bar chart\n",
    "\n",
    "ax = PipelineCapacityTT_df.plot.barh(x='Trade Type', rot=0)"
   ]
  },
  {
   "cell_type": "code",
   "execution_count": 55,
   "metadata": {},
   "outputs": [
    {
     "name": "stdout",
     "output_type": "stream",
     "text": [
      "                                                                   Available Capacity (1000 m3/d)  \\\n",
      "Product                     Corporate Entity                                                        \n",
      "condensate                  Kinder Morgan                                               15.103792   \n",
      "diluent                     Enbridge Southern Lights GP Inc.                            36.100000   \n",
      "domestic heavy              Enbridge Pipelines Inc.                                    460.905000   \n",
      "                            Trans Mountain Pipeline ULC                                 55.000000   \n",
      "                            TransCanada Keystone Pipeline GP Ltd.                       96.650000   \n",
      "domestic light              Enbridge Pipelines (NW) Inc.                                 2.600000   \n",
      "                            Trans Mountain Pipeline ULC                                 55.000000   \n",
      "                            TransCanada Keystone Pipeline GP Ltd.                       96.650000   \n",
      "domestic light / ngl        Enbridge Pipelines Inc.                                    460.905000   \n",
      "foreign light               Enbridge Pipelines Inc.                                    460.905000   \n",
      "natural gas                 Alliance Pipeline Limited Partnership                    52385.388303   \n",
      "                            Foothills Pipe Lines Ltd. (Foothills)                    85000.000000   \n",
      "                            Maritimes & Northeast Pipeline                           13334.900000   \n",
      "                            NOVA Gas Transmission Ltd. (NGTL)                       302165.000000   \n",
      "                            Trans Québec & Maritimes Pipeline Inc                    24384.000000   \n",
      "                            TransCanada PipeLines Limited                           209646.227900   \n",
      "                            Westcoast Energy Inc.                                    48214.000000   \n",
      "natural gas liquids (ngl)   TEML Westpur Pipelines Limited (TEML)                       39.333524   \n",
      "refined petroleum products  Kinder Morgan                                               12.083034   \n",
      "                            Trans Mountain Pipeline ULC                                 55.000000   \n",
      "                            Trans-Northern Pipelines Inc.                                     NaN   \n",
      "south east sask (ses) crude TEML Westpur Pipelines Limited (TEML)                       39.333524   \n",
      "westspur midale (msm) crude TEML Westpur Pipelines Limited (TEML)                       39.333524   \n",
      "\n",
      "                                                                   Throughput (1000 m3/d)  \n",
      "Product                     Corporate Entity                                               \n",
      "condensate                  Kinder Morgan                                       16.233936  \n",
      "diluent                     Enbridge Southern Lights GP Inc.                    25.825879  \n",
      "domestic heavy              Enbridge Pipelines Inc.                            283.000000  \n",
      "                            Trans Mountain Pipeline ULC                         19.000000  \n",
      "                            TransCanada Keystone Pipeline GP Ltd.               95.590000  \n",
      "domestic light              Enbridge Pipelines (NW) Inc.                         3.693615  \n",
      "                            Trans Mountain Pipeline ULC                         35.900000  \n",
      "                            TransCanada Keystone Pipeline GP Ltd.               29.066187  \n",
      "domestic light / ngl        Enbridge Pipelines Inc.                             94.900000  \n",
      "foreign light               Enbridge Pipelines Inc.                             37.800000  \n",
      "natural gas                 Alliance Pipeline Limited Partnership            53570.601562  \n",
      "                            Foothills Pipe Lines Ltd. (Foothills)            72391.400000  \n",
      "                            Maritimes & Northeast Pipeline                   13111.000000  \n",
      "                            NOVA Gas Transmission Ltd. (NGTL)               303616.681176  \n",
      "                            Trans Québec & Maritimes Pipeline Inc            23992.200000  \n",
      "                            TransCanada PipeLines Limited                   205384.545100  \n",
      "                            Westcoast Energy Inc.                            40240.390000  \n",
      "natural gas liquids (ngl)   TEML Westpur Pipelines Limited (TEML)                0.368010  \n",
      "refined petroleum products  Kinder Morgan                                        0.471700  \n",
      "                            Trans Mountain Pipeline ULC                         14.000000  \n",
      "                            Trans-Northern Pipelines Inc.                       38.833333  \n",
      "south east sask (ses) crude TEML Westpur Pipelines Limited (TEML)               23.305076  \n",
      "westspur midale (msm) crude TEML Westpur Pipelines Limited (TEML)                7.661816  \n"
     ]
    }
   ],
   "source": [
    "##PipelinesThroughputCapacity_df[''] group by ProductType and Corporate Entity, Max Available Capacity value\n",
    "\n",
    "import numpy as np\n",
    "\n",
    "PipelineCapacityPTCE_df = PipelinesThroughputCapacity_df.groupby(['Product', 'Corporate Entity']).agg({'Available Capacity (1000 m3/d)': np.max, 'Throughput (1000 m3/d)': np.max})\n",
    "\n",
    "print(PipelineCapacityPTCE_df)"
   ]
  },
  {
   "cell_type": "markdown",
   "metadata": {},
   "source": [
    "## Draw a histogram for the data"
   ]
  },
  {
   "cell_type": "code",
   "execution_count": 56,
   "metadata": {},
   "outputs": [
    {
     "name": "stdout",
     "output_type": "stream",
     "text": [
      "        index  MonthSort     Month  Year  \\\n",
      "0           0          1   January  2006   \n",
      "1           0          1   January  2006   \n",
      "2           0          1   January  2006   \n",
      "3           0          1   January  2006   \n",
      "4           0          1   January  2006   \n",
      "...       ...        ...       ...   ...   \n",
      "153179     11         12  December  2018   \n",
      "153180     11         12  December  2018   \n",
      "153181     11         12  December  2018   \n",
      "153182     11         12  December  2018   \n",
      "153183     11         12  December  2018   \n",
      "\n",
      "                             Corporate Entity      Pipeline Name Key Point  \\\n",
      "0       Alliance Pipeline Limited Partnership  Alliance Pipeline    Border   \n",
      "1       Alliance Pipeline Limited Partnership  Alliance Pipeline    Border   \n",
      "2       Alliance Pipeline Limited Partnership  Alliance Pipeline    Border   \n",
      "3       Alliance Pipeline Limited Partnership  Alliance Pipeline    Border   \n",
      "4       Alliance Pipeline Limited Partnership  Alliance Pipeline    Border   \n",
      "...                                       ...                ...       ...   \n",
      "153179  Alliance Pipeline Limited Partnership  Alliance Pipeline    Zone 2   \n",
      "153180  Alliance Pipeline Limited Partnership  Alliance Pipeline    Zone 2   \n",
      "153181  Alliance Pipeline Limited Partnership  Alliance Pipeline    Zone 2   \n",
      "153182  Alliance Pipeline Limited Partnership  Alliance Pipeline    Zone 2   \n",
      "153183  Alliance Pipeline Limited Partnership  Alliance Pipeline    Zone 2   \n",
      "\n",
      "        Latitude  Longitude Direction of Flow   Trade Type  \\\n",
      "0        49.0000   -101.588         southeast       export   \n",
      "1        49.0000   -101.588         southeast       export   \n",
      "2        49.0000   -101.588         southeast       export   \n",
      "3        49.0000   -101.588         southeast       export   \n",
      "4        49.0000   -101.588         southeast       export   \n",
      "...          ...        ...               ...          ...   \n",
      "153179   55.8558   -119.591         southeast  intracanada   \n",
      "153180   55.8558   -119.591         southeast  intracanada   \n",
      "153181   55.8558   -119.591         southeast  intracanada   \n",
      "153182   55.8558   -119.591         southeast  intracanada   \n",
      "153183   55.8558   -119.591         southeast  intracanada   \n",
      "\n",
      "        Available Capacity (1000 m3/d)  Throughput (1000 m3/d)      Product  \\\n",
      "0                         51717.212324            48884.199219  natural gas   \n",
      "1                         51733.310913            48708.101562  natural gas   \n",
      "2                         51748.750890            48355.300781  natural gas   \n",
      "3                         51763.527545            49248.500000  natural gas   \n",
      "4                         51777.636370            49377.800781  natural gas   \n",
      "...                                ...                     ...          ...   \n",
      "153179                    15479.320494            15681.000000  natural gas   \n",
      "153180                    15480.279493            15273.000000  natural gas   \n",
      "153181                    15507.642893            15827.000000  natural gas   \n",
      "153182                    15512.875485            15503.000000  natural gas   \n",
      "153183                    15526.030867            16001.000000  natural gas   \n",
      "\n",
      "            MonthYear MonthYearSort  \n",
      "0        January 2006        200601  \n",
      "1        January 2006        200601  \n",
      "2        January 2006        200601  \n",
      "3        January 2006        200601  \n",
      "4        January 2006        200601  \n",
      "...               ...           ...  \n",
      "153179  December 2018        201812  \n",
      "153180  December 2018        201812  \n",
      "153181  December 2018        201812  \n",
      "153182  December 2018        201812  \n",
      "153183  December 2018        201812  \n",
      "\n",
      "[10042 rows x 16 columns]\n"
     ]
    }
   ],
   "source": [
    "Alliance = PipelinesThroughputCapacity_df.loc[(PipelinesThroughputCapacity_df['Pipeline Name'] == 'Alliance Pipeline')]\n",
    "\n",
    "print(Alliance)"
   ]
  },
  {
   "cell_type": "code",
   "execution_count": 57,
   "metadata": {},
   "outputs": [],
   "source": [
    "import matplotlib.pyplot as plt\n",
    "\n",
    "plt.close('all')"
   ]
  },
  {
   "cell_type": "code",
   "execution_count": 58,
   "metadata": {},
   "outputs": [
    {
     "name": "stdout",
     "output_type": "stream",
     "text": [
      "            Pipeline Name  Available Capacity (1000 m3/d)  \\\n",
      "0       Alliance Pipeline                    51717.212324   \n",
      "1       Alliance Pipeline                    51733.310913   \n",
      "2       Alliance Pipeline                    51748.750890   \n",
      "3       Alliance Pipeline                    51763.527545   \n",
      "4       Alliance Pipeline                    51777.636370   \n",
      "...                   ...                             ...   \n",
      "153179  Alliance Pipeline                    15479.320494   \n",
      "153180  Alliance Pipeline                    15480.279493   \n",
      "153181  Alliance Pipeline                    15507.642893   \n",
      "153182  Alliance Pipeline                    15512.875485   \n",
      "153183  Alliance Pipeline                    15526.030867   \n",
      "\n",
      "        Throughput (1000 m3/d)  \n",
      "0                 48884.199219  \n",
      "1                 48708.101562  \n",
      "2                 48355.300781  \n",
      "3                 49248.500000  \n",
      "4                 49377.800781  \n",
      "...                        ...  \n",
      "153179            15681.000000  \n",
      "153180            15273.000000  \n",
      "153181            15827.000000  \n",
      "153182            15503.000000  \n",
      "153183            16001.000000  \n",
      "\n",
      "[10042 rows x 3 columns]\n"
     ]
    }
   ],
   "source": [
    "s= Alliance[['Pipeline Name', 'Available Capacity (1000 m3/d)', 'Throughput (1000 m3/d)']]\n",
    "\n",
    "print(s)"
   ]
  },
  {
   "cell_type": "code",
   "execution_count": 59,
   "metadata": {},
   "outputs": [
    {
     "data": {
      "image/png": "[encoded data removed]",
      "text/plain": [
       "<Figure size 720x360 with 2 Axes>"
      ]
     },
     "metadata": {
      "needs_background": "light"
     },
     "output_type": "display_data"
    }
   ],
   "source": [
    "ax = s.plot.hist(subplots= True, alpha=0.5, figsize=(10,5))"
   ]
  },
  {
   "cell_type": "markdown",
   "metadata": {},
   "source": [
    "## Draw plots using Seaborn"
   ]
  },
  {
   "cell_type": "code",
   "execution_count": 60,
   "metadata": {},
   "outputs": [],
   "source": [
    "## Set plot sytle\n",
    "\n",
    "sns.set(style='ticks', context='notebook')"
   ]
  },
  {
   "cell_type": "code",
   "execution_count": 61,
   "metadata": {},
   "outputs": [
    {
     "data": {
      "text/plain": [
       "<seaborn.axisgrid.FacetGrid at 0x1f591a85bc8>"
      ]
     },
     "execution_count": 61,
     "metadata": {},
     "output_type": "execute_result"
    },
    {
     "data": {
      "image/png": "[encoded data removed]",
      "text/plain": [
       "<Figure size 864x864 with 13 Axes>"
      ]
     },
     "metadata": {},
     "output_type": "display_data"
    }
   ],
   "source": [
    "## plot histograms per each pipeline\n",
    "g = sns.FacetGrid(data=PipelinesThroughputCapacity_df, col='Pipeline Name', col_wrap=4, hue='Pipeline Name')\n",
    "g.map(plt.hist, 'Available Capacity (1000 m3/d)')"
   ]
  },
  {
   "cell_type": "code",
   "execution_count": 62,
   "metadata": {
    "scrolled": true
   },
   "outputs": [
    {
     "data": {
      "text/plain": [
       "<seaborn.axisgrid.FacetGrid at 0x1f5931c7f88>"
      ]
     },
     "execution_count": 62,
     "metadata": {},
     "output_type": "execute_result"
    },
    {
     "data": {
      "image/png": "[encoded data removed]",
      "text/plain": [
       "<Figure size 864x864 with 13 Axes>"
      ]
     },
     "metadata": {},
     "output_type": "display_data"
    }
   ],
   "source": [
    "## plot scatter plots for each pipeline\n",
    "g = sns.FacetGrid(data=PipelinesThroughputCapacity_df, col='Pipeline Name', col_wrap=4, hue='Pipeline Name')\n",
    "g.map(plt.scatter, 'Year','Available Capacity (1000 m3/d)')"
   ]
  },
  {
   "cell_type": "markdown",
   "metadata": {},
   "source": [
    "## Export required dataframe to Power BI to create final visuals"
   ]
  },
  {
   "cell_type": "code",
   "execution_count": null,
   "metadata": {},
   "outputs": [],
   "source": [
    "## run condensed script in power bi to import the dataframes."
   ]
  }
 ],
 "metadata": {
  "kernelspec": {
   "display_name": "Python 3",
   "language": "python",
   "name": "python3"
  },
  "language_info": {
   "codemirror_mode": {
    "name": "ipython",
    "version": 3
   },
   "file_extension": ".py",
   "mimetype": "text/x-python",
   "name": "python",
   "nbconvert_exporter": "python",
   "pygments_lexer": "ipython3",
   "version": "3.5.5"
  }
 },
 "nbformat": 4,
 "nbformat_minor": 2
}
